{
 "cells": [
  {
   "cell_type": "code",
   "execution_count": 1,
   "id": "b96f63f4-d416-4bc0-913e-bdf274c49606",
   "metadata": {},
   "outputs": [],
   "source": [
    "import pandas as pd\n",
    "import sqlite3\n",
    "from datpy.database.connection import Database\n",
    "from datpy.vmg.codecrypt import encrypt_df, decrypt_df\n",
    "from tqdm import tqdm\n",
    "# from concurrent.futures import ProcessPoolExecutor"
   ]
  },
  {
   "cell_type": "code",
   "execution_count": null,
   "id": "1873a471-7911-4d75-b195-cd0f547f9895",
   "metadata": {},
   "outputs": [],
   "source": [
    "conn = Database({'type':'sqlite3',\"path\":'data/labels/VMGLEAD.db'}, 'print')"
   ]
  },
  {
   "cell_type": "code",
   "execution_count": 3,
   "id": "326cb0c2",
   "metadata": {},
   "outputs": [
    {
     "name": "stdout",
     "output_type": "stream",
     "text": [
      "Success connecting to database 192.168.18.32:1521/score\n"
     ]
    }
   ],
   "source": [
    "cf = {\n",
    "    'type': \"oracle\",\n",
    "    'hostname': \"192.168.18.32\",\n",
    "    'port': \"1521\",\n",
    "    'service_name': \"DTT\",\n",
    "    'username': \"dtt_sd\",\n",
    "    'password': \"hct5Kg\",\n",
    "}\n",
    "cf = {\n",
    "    'type': \"oracle\",\n",
    "    'hostname': \"192.168.18.32\",\n",
    "    'port': \"1521\",\n",
    "    'service_name': \"score\",\n",
    "    'username': \"score\",\n",
    "    'password': \"Vmg102021\",\n",
    "}\n",
    "conn = Database(cf, 'print')"
   ]
  },
  {
   "cell_type": "code",
   "execution_count": 6,
   "id": "6577275b",
   "metadata": {},
   "outputs": [
    {
     "name": "stderr",
     "output_type": "stream",
     "text": [
      "0it [00:00, ?it/s]"
     ]
    },
    {
     "name": "stdout",
     "output_type": "stream",
     "text": [
      "--> Finish in 0:00:00s\n"
     ]
    },
    {
     "name": "stderr",
     "output_type": "stream",
     "text": [
      "7it [01:14, 10.62s/it]\n",
      "7it [01:14, 10.62s/it]\n"
     ]
    },
    {
     "ename": "KeyboardInterrupt",
     "evalue": "",
     "output_type": "error",
     "traceback": [
      "\u001b[1;31m---------------------------------------------------------------------------\u001b[0m",
      "\u001b[1;31mKeyboardInterrupt\u001b[0m                         Traceback (most recent call last)",
      "\u001b[1;32md:\\DATA SUPERLAKE\\3. CODE\\statistic\\get telco sub info.ipynb Cell 7\u001b[0m in \u001b[0;36m<cell line: 9>\u001b[1;34m()\u001b[0m\n\u001b[0;32m      <a href='vscode-notebook-cell:/d%3A/DATA%20SUPERLAKE/3.%20CODE/statistic/get%20telco%20sub%20info.ipynb#ch0000006?line=6'>7</a>\u001b[0m         decrypt_df(raw,decrypt)\n\u001b[0;32m      <a href='vscode-notebook-cell:/d%3A/DATA%20SUPERLAKE/3.%20CODE/statistic/get%20telco%20sub%20info.ipynb#ch0000006?line=7'>8</a>\u001b[0m         raw\u001b[39m.\u001b[39mto_sql(file_data_name, conn_sqlite, if_exists\u001b[39m=\u001b[39m\u001b[39m'\u001b[39m\u001b[39mappend\u001b[39m\u001b[39m'\u001b[39m,index\u001b[39m=\u001b[39m\u001b[39mFalse\u001b[39;00m)\n\u001b[1;32m----> <a href='vscode-notebook-cell:/d%3A/DATA%20SUPERLAKE/3.%20CODE/statistic/get%20telco%20sub%20info.ipynb#ch0000006?line=8'>9</a>\u001b[0m proces(\u001b[39m'\u001b[39;49m\u001b[39mTOKHAI_DETAIL2018_NEW\u001b[39;49m\u001b[39m'\u001b[39;49m)\n",
      "\u001b[1;32md:\\DATA SUPERLAKE\\3. CODE\\statistic\\get telco sub info.ipynb Cell 7\u001b[0m in \u001b[0;36mproces\u001b[1;34m(tablename, decrypt)\u001b[0m\n\u001b[0;32m      <a href='vscode-notebook-cell:/d%3A/DATA%20SUPERLAKE/3.%20CODE/statistic/get%20telco%20sub%20info.ipynb#ch0000006?line=3'>4</a>\u001b[0m file_data_name\u001b[39m=\u001b[39m\u001b[39mf\u001b[39m\u001b[39m\"\u001b[39m\u001b[39mTO_KHAI_THUE.db\u001b[39m\u001b[39m\"\u001b[39m\n\u001b[0;32m      <a href='vscode-notebook-cell:/d%3A/DATA%20SUPERLAKE/3.%20CODE/statistic/get%20telco%20sub%20info.ipynb#ch0000006?line=4'>5</a>\u001b[0m conn_sqlite\u001b[39m=\u001b[39msqlite3\u001b[39m.\u001b[39mconnect(file_data_name)\n\u001b[1;32m----> <a href='vscode-notebook-cell:/d%3A/DATA%20SUPERLAKE/3.%20CODE/statistic/get%20telco%20sub%20info.ipynb#ch0000006?line=5'>6</a>\u001b[0m \u001b[39mfor\u001b[39;00m raw \u001b[39min\u001b[39;00m tqdm(dfs):\n\u001b[0;32m      <a href='vscode-notebook-cell:/d%3A/DATA%20SUPERLAKE/3.%20CODE/statistic/get%20telco%20sub%20info.ipynb#ch0000006?line=6'>7</a>\u001b[0m     decrypt_df(raw,decrypt)\n\u001b[0;32m      <a href='vscode-notebook-cell:/d%3A/DATA%20SUPERLAKE/3.%20CODE/statistic/get%20telco%20sub%20info.ipynb#ch0000006?line=7'>8</a>\u001b[0m     raw\u001b[39m.\u001b[39mto_sql(file_data_name, conn_sqlite, if_exists\u001b[39m=\u001b[39m\u001b[39m'\u001b[39m\u001b[39mappend\u001b[39m\u001b[39m'\u001b[39m,index\u001b[39m=\u001b[39m\u001b[39mFalse\u001b[39;00m)\n",
      "File \u001b[1;32mc:\\Users\\User\\anaconda3\\lib\\site-packages\\tqdm\\std.py:1195\u001b[0m, in \u001b[0;36mtqdm.__iter__\u001b[1;34m(self)\u001b[0m\n\u001b[0;32m   1192\u001b[0m time \u001b[39m=\u001b[39m \u001b[39mself\u001b[39m\u001b[39m.\u001b[39m_time\n\u001b[0;32m   1194\u001b[0m \u001b[39mtry\u001b[39;00m:\n\u001b[1;32m-> 1195\u001b[0m     \u001b[39mfor\u001b[39;00m obj \u001b[39min\u001b[39;00m iterable:\n\u001b[0;32m   1196\u001b[0m         \u001b[39myield\u001b[39;00m obj\n\u001b[0;32m   1197\u001b[0m         \u001b[39m# Update and possibly print the progressbar.\u001b[39;00m\n\u001b[0;32m   1198\u001b[0m         \u001b[39m# Note: does not call self.update(1) for speed optimisation.\u001b[39;00m\n",
      "File \u001b[1;32mc:\\Users\\User\\anaconda3\\lib\\site-packages\\tqdm\\std.py:1195\u001b[0m, in \u001b[0;36mtqdm.__iter__\u001b[1;34m(self)\u001b[0m\n\u001b[0;32m   1192\u001b[0m time \u001b[39m=\u001b[39m \u001b[39mself\u001b[39m\u001b[39m.\u001b[39m_time\n\u001b[0;32m   1194\u001b[0m \u001b[39mtry\u001b[39;00m:\n\u001b[1;32m-> 1195\u001b[0m     \u001b[39mfor\u001b[39;00m obj \u001b[39min\u001b[39;00m iterable:\n\u001b[0;32m   1196\u001b[0m         \u001b[39myield\u001b[39;00m obj\n\u001b[0;32m   1197\u001b[0m         \u001b[39m# Update and possibly print the progressbar.\u001b[39;00m\n\u001b[0;32m   1198\u001b[0m         \u001b[39m# Note: does not call self.update(1) for speed optimisation.\u001b[39;00m\n",
      "File \u001b[1;32mc:\\Users\\User\\anaconda3\\lib\\site-packages\\pandas\\io\\sql.py:1477\u001b[0m, in \u001b[0;36mSQLDatabase._query_iterator\u001b[1;34m(result, chunksize, columns, index_col, coerce_float, parse_dates, dtype)\u001b[0m\n\u001b[0;32m   1475\u001b[0m has_read_data \u001b[39m=\u001b[39m \u001b[39mFalse\u001b[39;00m\n\u001b[0;32m   1476\u001b[0m \u001b[39mwhile\u001b[39;00m \u001b[39mTrue\u001b[39;00m:\n\u001b[1;32m-> 1477\u001b[0m     data \u001b[39m=\u001b[39m result\u001b[39m.\u001b[39;49mfetchmany(chunksize)\n\u001b[0;32m   1478\u001b[0m     \u001b[39mif\u001b[39;00m \u001b[39mnot\u001b[39;00m data:\n\u001b[0;32m   1479\u001b[0m         \u001b[39mif\u001b[39;00m \u001b[39mnot\u001b[39;00m has_read_data:\n",
      "File \u001b[1;32mc:\\Users\\User\\anaconda3\\lib\\site-packages\\sqlalchemy\\engine\\result.py:1054\u001b[0m, in \u001b[0;36mResult.fetchmany\u001b[1;34m(self, size)\u001b[0m\n\u001b[0;32m   1039\u001b[0m \u001b[39mdef\u001b[39;00m \u001b[39mfetchmany\u001b[39m(\u001b[39mself\u001b[39m, size\u001b[39m=\u001b[39m\u001b[39mNone\u001b[39;00m):\n\u001b[0;32m   1040\u001b[0m     \u001b[39m\"\"\"Fetch many rows.\u001b[39;00m\n\u001b[0;32m   1041\u001b[0m \n\u001b[0;32m   1042\u001b[0m \u001b[39m    When all rows are exhausted, returns an empty list.\u001b[39;00m\n\u001b[1;32m   (...)\u001b[0m\n\u001b[0;32m   1051\u001b[0m \n\u001b[0;32m   1052\u001b[0m \u001b[39m    \"\"\"\u001b[39;00m\n\u001b[1;32m-> 1054\u001b[0m     \u001b[39mreturn\u001b[39;00m \u001b[39mself\u001b[39;49m\u001b[39m.\u001b[39;49m_manyrow_getter(\u001b[39mself\u001b[39;49m, size)\n",
      "File \u001b[1;32mc:\\Users\\User\\anaconda3\\lib\\site-packages\\sqlalchemy\\engine\\result.py:542\u001b[0m, in \u001b[0;36mResultInternal._manyrow_getter.<locals>.manyrows\u001b[1;34m(self, num)\u001b[0m\n\u001b[0;32m    537\u001b[0m     real_result \u001b[39m=\u001b[39m (\n\u001b[0;32m    538\u001b[0m         \u001b[39mself\u001b[39m\u001b[39m.\u001b[39m_real_result \u001b[39mif\u001b[39;00m \u001b[39mself\u001b[39m\u001b[39m.\u001b[39m_real_result \u001b[39melse\u001b[39;00m \u001b[39mself\u001b[39m\n\u001b[0;32m    539\u001b[0m     )\n\u001b[0;32m    540\u001b[0m     num \u001b[39m=\u001b[39m real_result\u001b[39m.\u001b[39m_yield_per\n\u001b[1;32m--> 542\u001b[0m rows \u001b[39m=\u001b[39m \u001b[39mself\u001b[39;49m\u001b[39m.\u001b[39;49m_fetchmany_impl(num)\n\u001b[0;32m    543\u001b[0m \u001b[39mif\u001b[39;00m make_row:\n\u001b[0;32m    544\u001b[0m     rows \u001b[39m=\u001b[39m [make_row(row) \u001b[39mfor\u001b[39;00m row \u001b[39min\u001b[39;00m rows]\n",
      "File \u001b[1;32mc:\\Users\\User\\anaconda3\\lib\\site-packages\\sqlalchemy\\engine\\cursor.py:1807\u001b[0m, in \u001b[0;36mCursorResult._fetchmany_impl\u001b[1;34m(self, size)\u001b[0m\n\u001b[0;32m   1806\u001b[0m \u001b[39mdef\u001b[39;00m \u001b[39m_fetchmany_impl\u001b[39m(\u001b[39mself\u001b[39m, size\u001b[39m=\u001b[39m\u001b[39mNone\u001b[39;00m):\n\u001b[1;32m-> 1807\u001b[0m     \u001b[39mreturn\u001b[39;00m \u001b[39mself\u001b[39;49m\u001b[39m.\u001b[39;49mcursor_strategy\u001b[39m.\u001b[39;49mfetchmany(\u001b[39mself\u001b[39;49m, \u001b[39mself\u001b[39;49m\u001b[39m.\u001b[39;49mcursor, size)\n",
      "File \u001b[1;32mc:\\Users\\User\\anaconda3\\lib\\site-packages\\sqlalchemy\\engine\\cursor.py:973\u001b[0m, in \u001b[0;36mCursorFetchStrategy.fetchmany\u001b[1;34m(self, result, dbapi_cursor, size)\u001b[0m\n\u001b[0;32m    971\u001b[0m     \u001b[39mreturn\u001b[39;00m l\n\u001b[0;32m    972\u001b[0m \u001b[39mexcept\u001b[39;00m \u001b[39mBaseException\u001b[39;00m \u001b[39mas\u001b[39;00m e:\n\u001b[1;32m--> 973\u001b[0m     \u001b[39mself\u001b[39;49m\u001b[39m.\u001b[39;49mhandle_exception(result, dbapi_cursor, e)\n",
      "File \u001b[1;32mc:\\Users\\User\\anaconda3\\lib\\site-packages\\sqlalchemy\\engine\\cursor.py:941\u001b[0m, in \u001b[0;36mCursorFetchStrategy.handle_exception\u001b[1;34m(self, result, dbapi_cursor, err)\u001b[0m\n\u001b[0;32m    940\u001b[0m \u001b[39mdef\u001b[39;00m \u001b[39mhandle_exception\u001b[39m(\u001b[39mself\u001b[39m, result, dbapi_cursor, err):\n\u001b[1;32m--> 941\u001b[0m     result\u001b[39m.\u001b[39;49mconnection\u001b[39m.\u001b[39;49m_handle_dbapi_exception(\n\u001b[0;32m    942\u001b[0m         err, \u001b[39mNone\u001b[39;49;00m, \u001b[39mNone\u001b[39;49;00m, dbapi_cursor, result\u001b[39m.\u001b[39;49mcontext\n\u001b[0;32m    943\u001b[0m     )\n",
      "File \u001b[1;32mc:\\Users\\User\\anaconda3\\lib\\site-packages\\sqlalchemy\\engine\\base.py:2036\u001b[0m, in \u001b[0;36mConnection._handle_dbapi_exception\u001b[1;34m(self, e, statement, parameters, cursor, context)\u001b[0m\n\u001b[0;32m   2032\u001b[0m         util\u001b[39m.\u001b[39mraise_(\n\u001b[0;32m   2033\u001b[0m             sqlalchemy_exception, with_traceback\u001b[39m=\u001b[39mexc_info[\u001b[39m2\u001b[39m], from_\u001b[39m=\u001b[39me\n\u001b[0;32m   2034\u001b[0m         )\n\u001b[0;32m   2035\u001b[0m     \u001b[39melse\u001b[39;00m:\n\u001b[1;32m-> 2036\u001b[0m         util\u001b[39m.\u001b[39;49mraise_(exc_info[\u001b[39m1\u001b[39;49m], with_traceback\u001b[39m=\u001b[39;49mexc_info[\u001b[39m2\u001b[39;49m])\n\u001b[0;32m   2038\u001b[0m \u001b[39mfinally\u001b[39;00m:\n\u001b[0;32m   2039\u001b[0m     \u001b[39mdel\u001b[39;00m \u001b[39mself\u001b[39m\u001b[39m.\u001b[39m_reentrant_error\n",
      "File \u001b[1;32mc:\\Users\\User\\anaconda3\\lib\\site-packages\\sqlalchemy\\util\\compat.py:207\u001b[0m, in \u001b[0;36mraise_\u001b[1;34m(***failed resolving arguments***)\u001b[0m\n\u001b[0;32m    204\u001b[0m     exception\u001b[39m.\u001b[39m__cause__ \u001b[39m=\u001b[39m replace_context\n\u001b[0;32m    206\u001b[0m \u001b[39mtry\u001b[39;00m:\n\u001b[1;32m--> 207\u001b[0m     \u001b[39mraise\u001b[39;00m exception\n\u001b[0;32m    208\u001b[0m \u001b[39mfinally\u001b[39;00m:\n\u001b[0;32m    209\u001b[0m     \u001b[39m# credit to\u001b[39;00m\n\u001b[0;32m    210\u001b[0m     \u001b[39m# https://cosmicpercolator.com/2016/01/13/exception-leaks-in-python-2-and-3/\u001b[39;00m\n\u001b[0;32m    211\u001b[0m     \u001b[39m# as the __traceback__ object creates a cycle\u001b[39;00m\n\u001b[0;32m    212\u001b[0m     \u001b[39mdel\u001b[39;00m exception, replace_context, from_, with_traceback\n",
      "File \u001b[1;32mc:\\Users\\User\\anaconda3\\lib\\site-packages\\sqlalchemy\\engine\\cursor.py:967\u001b[0m, in \u001b[0;36mCursorFetchStrategy.fetchmany\u001b[1;34m(self, result, dbapi_cursor, size)\u001b[0m\n\u001b[0;32m    965\u001b[0m     l \u001b[39m=\u001b[39m dbapi_cursor\u001b[39m.\u001b[39mfetchmany()\n\u001b[0;32m    966\u001b[0m \u001b[39melse\u001b[39;00m:\n\u001b[1;32m--> 967\u001b[0m     l \u001b[39m=\u001b[39m dbapi_cursor\u001b[39m.\u001b[39;49mfetchmany(size)\n\u001b[0;32m    969\u001b[0m \u001b[39mif\u001b[39;00m \u001b[39mnot\u001b[39;00m l:\n\u001b[0;32m    970\u001b[0m     result\u001b[39m.\u001b[39m_soft_close()\n",
      "File \u001b[1;32mc:\\Users\\User\\anaconda3\\lib\\site-packages\\sqlalchemy\\dialects\\oracle\\cx_oracle.py:1122\u001b[0m, in \u001b[0;36mOracleDialect_cx_oracle._detect_decimal\u001b[1;34m(self, value)\u001b[0m\n\u001b[0;32m   1115\u001b[0m         \u001b[39mself\u001b[39m\u001b[39m.\u001b[39m_detect_decimal \u001b[39m=\u001b[39m \u001b[39mlambda\u001b[39;00m value: _detect_decimal(\n\u001b[0;32m   1116\u001b[0m             value\u001b[39m.\u001b[39mreplace(\u001b[39mself\u001b[39m\u001b[39m.\u001b[39m_decimal_char, \u001b[39m\"\u001b[39m\u001b[39m.\u001b[39m\u001b[39m\"\u001b[39m)\n\u001b[0;32m   1117\u001b[0m         )\n\u001b[0;32m   1118\u001b[0m         \u001b[39mself\u001b[39m\u001b[39m.\u001b[39m_to_decimal \u001b[39m=\u001b[39m \u001b[39mlambda\u001b[39;00m value: _to_decimal(\n\u001b[0;32m   1119\u001b[0m             value\u001b[39m.\u001b[39mreplace(\u001b[39mself\u001b[39m\u001b[39m.\u001b[39m_decimal_char, \u001b[39m\"\u001b[39m\u001b[39m.\u001b[39m\u001b[39m\"\u001b[39m)\n\u001b[0;32m   1120\u001b[0m         )\n\u001b[1;32m-> 1122\u001b[0m \u001b[39mdef\u001b[39;00m \u001b[39m_detect_decimal\u001b[39m(\u001b[39mself\u001b[39m, value):\n\u001b[0;32m   1123\u001b[0m     \u001b[39mif\u001b[39;00m \u001b[39m\"\u001b[39m\u001b[39m.\u001b[39m\u001b[39m\"\u001b[39m \u001b[39min\u001b[39;00m value:\n\u001b[0;32m   1124\u001b[0m         \u001b[39mreturn\u001b[39;00m \u001b[39mself\u001b[39m\u001b[39m.\u001b[39m_to_decimal(value)\n",
      "\u001b[1;31mKeyboardInterrupt\u001b[0m: "
     ]
    }
   ],
   "source": [
    "def proces(tablename, decrypt = ['mst','ct08','ct09','ct09_new']):\n",
    "    chunksize = 100000\n",
    "    dfs = conn.read(tablename,chunksize=chunksize)\n",
    "    file_data_name=f\"TO_KHAI_THUE.db\"\n",
    "    conn_sqlite=sqlite3.connect(file_data_name)\n",
    "    for raw in tqdm(dfs):\n",
    "        decrypt_df(raw,decrypt)\n",
    "        raw.to_sql(tablename, conn_sqlite, if_exists='append',index=False)\n",
    "\n",
    "table_List = {'TOKHAI_NGUOI_PHU_THUOC_2019_NEW':['ct08','ct11'],\n",
    " 'TOKHAI_DETAIL2018_NEW':['mst','ct08','ct09','ct09_new'],\n",
    " 'TOKHAI_NGUOI_PHU_THUOC_2018_NEW':['ct08','ct11'],\n",
    " 'TOKHAI_DETAIL2020_NEW':['mst','ct08','ct09','ct09_new'],\n",
    " 'TOKHAI_FILEINFO_2019_NEW':['mst'],\n",
    " 'TOKHAI_FILEINFO_2020_NEW':['mst'],\n",
    " 'TOKHAI_NGUOI_PHU_THUOC_2020_NEW':['ct08','ct11'],\n",
    " 'TOKHAI_DETAIL2019_NEW':['mst','ct08','ct09','ct09_new'],\n",
    " 'TOKHAI_FILEINFO_2018_NEW':['mst']}\n",
    "\n",
    "for i in table_List.keys():\n",
    "    proces(i,table_List[i])\n"
   ]
  }
 ],
 "metadata": {
  "kernelspec": {
   "display_name": "Python 3.9.12 ('base')",
   "language": "python",
   "name": "python3"
  },
  "language_info": {
   "codemirror_mode": {
    "name": "ipython",
    "version": 3
   },
   "file_extension": ".py",
   "mimetype": "text/x-python",
   "name": "python",
   "nbconvert_exporter": "python",
   "pygments_lexer": "ipython3",
   "version": "3.9.12"
  },
  "vscode": {
   "interpreter": {
    "hash": "f08154012ddadd8e950e6e9e035c7a7b32c136e7647e9b7c77e02eb723a8bedb"
   }
  }
 },
 "nbformat": 4,
 "nbformat_minor": 5
}
