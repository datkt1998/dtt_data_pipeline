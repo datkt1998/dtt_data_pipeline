{
 "cells": [
  {
   "cell_type": "code",
   "execution_count": 30,
   "metadata": {},
   "outputs": [],
   "source": [
    "import os\n",
    "import datpy.database.connection as cn\n",
    "import datpy.filetool.config_file as cf\n",
    "import datpy.filetool.output_file as of"
   ]
  },
  {
   "cell_type": "code",
   "execution_count": 57,
   "metadata": {},
   "outputs": [],
   "source": [
    "PROJECT_DIR = r\"D:\\DATA SUPERLAKE\"\n",
    "CONFIG = cf.Config(os.path.join(PROJECT_DIR,'3. CODE','dtt_data_pipeline','configs','main_config.yaml')).read(doc = 0)"
   ]
  },
  {
   "cell_type": "code",
   "execution_count": 32,
   "metadata": {},
   "outputs": [],
   "source": [
    "data_type = CONFIG.data.telco_info.name"
   ]
  },
  {
   "cell_type": "code",
   "execution_count": 33,
   "metadata": {},
   "outputs": [],
   "source": [
    "datafolder = os.path.join(CONFIG.folder.project,CONFIG.folder.data_save,CONFIG.data[data_type].folder.local_output)"
   ]
  },
  {
   "cell_type": "code",
   "execution_count": 34,
   "metadata": {},
   "outputs": [],
   "source": [
    "savefolder,logfolder = of.OutputFolder(datafolder)"
   ]
  },
  {
   "cell_type": "code",
   "execution_count": 6,
   "metadata": {},
   "outputs": [
    {
     "name": "stdout",
     "output_type": "stream",
     "text": [
      "Success connecting to server 192.168.40.8\n",
      "Count:  86\r"
     ]
    }
   ],
   "source": [
    "listfileFTP = cn.FtpServer(CONFIG.database.db_source.host,\n",
    "                           CONFIG.database.db_source.username,\n",
    "                           CONFIG.database.db_source.password)\\\n",
    "                        .listdir(CONFIG.data[data_type].folder.ftp_store)"
   ]
  },
  {
   "cell_type": "code",
   "execution_count": 7,
   "metadata": {},
   "outputs": [],
   "source": [
    "not_process_filefir = of.check_file_processed(listfileFTP,logfolder)"
   ]
  },
  {
   "cell_type": "code",
   "execution_count": 8,
   "metadata": {},
   "outputs": [],
   "source": [
    "import pandas as pd\n",
    "not_process_file = pd.read_csv(not_process_filefir,sep = \"|\")['not_process_file'].tolist()"
   ]
  },
  {
   "cell_type": "code",
   "execution_count": 14,
   "metadata": {},
   "outputs": [
    {
     "data": {
      "text/plain": [
       "['/mnt/array1/datatech/1. TELCO/Subcriber Telco Info/TTTB Mobi/Fixed/DANHSACH_MC_9_final.csv',\n",
       " '/mnt/array1/datatech/1. TELCO/Subcriber Telco Info/TTTB Mobi/Fixed/DANHSACH_MC_8_final.csv',\n",
       " '/mnt/array1/datatech/1. TELCO/Subcriber Telco Info/TTTB Mobi/Fixed/DANHSACH_MC_7_final.csv',\n",
       " '/mnt/array1/datatech/1. TELCO/Subcriber Telco Info/TTTB Mobi/Fixed/DANHSACH_MC_6_final.csv',\n",
       " '/mnt/array1/datatech/1. TELCO/Subcriber Telco Info/TTTB Mobi/Fixed/DANHSACH_MC_5_final.csv',\n",
       " '/mnt/array1/datatech/1. TELCO/Subcriber Telco Info/TTTB Mobi/Fixed/DANHSACH_MC_4_final.csv',\n",
       " '/mnt/array1/datatech/1. TELCO/Subcriber Telco Info/TTTB Mobi/Fixed/DANHSACH_MC_3_final.csv',\n",
       " '/mnt/array1/datatech/1. TELCO/Subcriber Telco Info/TTTB Mobi/Fixed/DANHSACH_MC_2_final.csv',\n",
       " '/mnt/array1/datatech/1. TELCO/Subcriber Telco Info/TTTB Mobi/Fixed/DANHSACH_MC_24_final.csv',\n",
       " '/mnt/array1/datatech/1. TELCO/Subcriber Telco Info/TTTB Mobi/Fixed/DANHSACH_MC_23_final.csv',\n",
       " '/mnt/array1/datatech/1. TELCO/Subcriber Telco Info/TTTB Mobi/Fixed/DANHSACH_MC_22_final.csv',\n",
       " '/mnt/array1/datatech/1. TELCO/Subcriber Telco Info/TTTB Mobi/Fixed/DANHSACH_MC_21_final.csv',\n",
       " '/mnt/array1/datatech/1. TELCO/Subcriber Telco Info/TTTB Mobi/Fixed/DANHSACH_MC_20_final.csv',\n",
       " '/mnt/array1/datatech/1. TELCO/Subcriber Telco Info/TTTB Mobi/Fixed/DANHSACH_MC_1_final.csv',\n",
       " '/mnt/array1/datatech/1. TELCO/Subcriber Telco Info/TTTB Mobi/Fixed/DANHSACH_MC_19_final.csv',\n",
       " '/mnt/array1/datatech/1. TELCO/Subcriber Telco Info/TTTB Mobi/Fixed/DANHSACH_MC_18_final.csv',\n",
       " '/mnt/array1/datatech/1. TELCO/Subcriber Telco Info/TTTB Mobi/Fixed/DANHSACH_MC_17_final.csv',\n",
       " '/mnt/array1/datatech/1. TELCO/Subcriber Telco Info/TTTB Mobi/Fixed/DANHSACH_MC_16_final.csv',\n",
       " '/mnt/array1/datatech/1. TELCO/Subcriber Telco Info/TTTB Mobi/Fixed/DANHSACH_MC_15_final.csv',\n",
       " '/mnt/array1/datatech/1. TELCO/Subcriber Telco Info/TTTB Mobi/Fixed/DANHSACH_MC_14_final.csv',\n",
       " '/mnt/array1/datatech/1. TELCO/Subcriber Telco Info/TTTB Mobi/Fixed/DANHSACH_MC_13_final.csv',\n",
       " '/mnt/array1/datatech/1. TELCO/Subcriber Telco Info/TTTB Mobi/Fixed/DANHSACH_MC_12_final.csv',\n",
       " '/mnt/array1/datatech/1. TELCO/Subcriber Telco Info/TTTB Mobi/Fixed/DANHSACH_MC_11_final.csv',\n",
       " '/mnt/array1/datatech/1. TELCO/Subcriber Telco Info/TTTB Mobi/Fixed/DANHSACH_MC_10_final.csv',\n",
       " '/mnt/array1/datatech/1. TELCO/Subcriber Telco Info/TTTB Mobi/Fixed/DANHSACH_MC_0_final.csv',\n",
       " '/mnt/array1/datatech/1. TELCO/Subcriber Telco Info/TTTB Mobi/Final/DANHSACH_MC_0_final_final_final.csv',\n",
       " '/mnt/array1/datatech/1. TELCO/Subcriber Telco Info/TTTB Mobi/Final/DANHSACH_MC_10_final_final_final.csv',\n",
       " '/mnt/array1/datatech/1. TELCO/Subcriber Telco Info/TTTB Mobi/Final/DANHSACH_MC_11_final_final_final.csv',\n",
       " '/mnt/array1/datatech/1. TELCO/Subcriber Telco Info/TTTB Mobi/Final/DANHSACH_MC_12_final_final_final.csv',\n",
       " '/mnt/array1/datatech/1. TELCO/Subcriber Telco Info/TTTB Mobi/Final/DANHSACH_MC_13_final_final_final.csv',\n",
       " '/mnt/array1/datatech/1. TELCO/Subcriber Telco Info/TTTB Mobi/Final/DANHSACH_MC_14_final_final_final.csv',\n",
       " '/mnt/array1/datatech/1. TELCO/Subcriber Telco Info/TTTB Mobi/Final/DANHSACH_MC_15_final_final_final.csv',\n",
       " '/mnt/array1/datatech/1. TELCO/Subcriber Telco Info/TTTB Mobi/Final/DANHSACH_MC_16_final_final_final.csv',\n",
       " '/mnt/array1/datatech/1. TELCO/Subcriber Telco Info/TTTB Mobi/Final/DANHSACH_MC_17_final_final_final.csv',\n",
       " '/mnt/array1/datatech/1. TELCO/Subcriber Telco Info/TTTB Mobi/Final/DANHSACH_MC_18_final_final_final.csv',\n",
       " '/mnt/array1/datatech/1. TELCO/Subcriber Telco Info/TTTB Mobi/Final/DANHSACH_MC_19_final_final_final.csv',\n",
       " '/mnt/array1/datatech/1. TELCO/Subcriber Telco Info/TTTB Mobi/Final/DANHSACH_MC_1_final_final_final.csv',\n",
       " '/mnt/array1/datatech/1. TELCO/Subcriber Telco Info/TTTB Mobi/Final/DANHSACH_MC_20_final_final_final.csv',\n",
       " '/mnt/array1/datatech/1. TELCO/Subcriber Telco Info/TTTB Mobi/Final/DANHSACH_MC_21_final_final_final.csv',\n",
       " '/mnt/array1/datatech/1. TELCO/Subcriber Telco Info/TTTB Mobi/Final/DANHSACH_MC_22_final_final_final.csv',\n",
       " '/mnt/array1/datatech/1. TELCO/Subcriber Telco Info/TTTB Mobi/Final/DANHSACH_MC_23_final_final_final.csv',\n",
       " '/mnt/array1/datatech/1. TELCO/Subcriber Telco Info/TTTB Mobi/Final/DANHSACH_MC_24_final_final_final.csv',\n",
       " '/mnt/array1/datatech/1. TELCO/Subcriber Telco Info/TTTB Mobi/Final/DANHSACH_MC_2_final_final_final.csv',\n",
       " '/mnt/array1/datatech/1. TELCO/Subcriber Telco Info/TTTB Mobi/Final/DANHSACH_MC_3_final_final_final.csv',\n",
       " '/mnt/array1/datatech/1. TELCO/Subcriber Telco Info/TTTB Mobi/Final/DANHSACH_MC_4_final_final_final.csv',\n",
       " '/mnt/array1/datatech/1. TELCO/Subcriber Telco Info/TTTB Mobi/Final/DANHSACH_MC_5_final_final_final.csv',\n",
       " '/mnt/array1/datatech/1. TELCO/Subcriber Telco Info/TTTB Mobi/Final/DANHSACH_MC_6_final_final_final.csv',\n",
       " '/mnt/array1/datatech/1. TELCO/Subcriber Telco Info/TTTB Mobi/Final/DANHSACH_MC_7_final_final_final.csv',\n",
       " '/mnt/array1/datatech/1. TELCO/Subcriber Telco Info/TTTB Mobi/Final/DANHSACH_MC_8_final_final_final.csv',\n",
       " '/mnt/array1/datatech/1. TELCO/Subcriber Telco Info/TTTB Mobi/Final/DANHSACH_MC_9_final_final_final.csv',\n",
       " '/mnt/array1/datatech/1. TELCO/Subcriber Telco Info/TTTB Mobi/Original/mbp.zip',\n",
       " '/mnt/array1/datatech/1. TELCO/Subcriber Telco Info/TTTB moi Vina/Original/TTTB moi T04.2021_Original.csv',\n",
       " '/mnt/array1/datatech/1. TELCO/Subcriber Telco Info/TTTB moi Vina/Original/TTTB moi T02.2021_Original.csv',\n",
       " '/mnt/array1/datatech/1. TELCO/Subcriber Telco Info/TTTB moi Vina/Original/TTTB moi T08.2021_Original.csv',\n",
       " '/mnt/array1/datatech/1. TELCO/Subcriber Telco Info/TTTB moi Vina/Original/TTTB moi T09.2021_Original.csv',\n",
       " '/mnt/array1/datatech/1. TELCO/Subcriber Telco Info/TTTB moi Vina/Original/TTTB moi T10.2021_Original.csv',\n",
       " '/mnt/array1/datatech/1. TELCO/Subcriber Telco Info/TTTB moi Vina/Original/TTTB moi T01.2021_Original.dsv',\n",
       " '/mnt/array1/datatech/1. TELCO/Subcriber Telco Info/TTTB moi Vina/Original/TTTB moi 16 - 31T03.2021.csv',\n",
       " '/mnt/array1/datatech/1. TELCO/Subcriber Telco Info/TTTB moi Vina/Original/TTTB moi 01 - 15T03.2021.csv',\n",
       " '/mnt/array1/datatech/1. TELCO/Subcriber Telco Info/TTTB moi Vina/Original/TTTB moi T05-11.2020.tsv',\n",
       " '/mnt/array1/datatech/1. TELCO/Subcriber Telco Info/TTTB moi Vina/Original/TTTB moi T11.2021_Original.csv',\n",
       " '/mnt/array1/datatech/1. TELCO/Subcriber Telco Info/TTTB moi Vina/Original/TTTB moi T05.2022_Original.csv',\n",
       " '/mnt/array1/datatech/1. TELCO/Subcriber Telco Info/TTTB moi Vina/Final/TTTB moi T05-T11.2020_Final_20210702.csv',\n",
       " '/mnt/array1/datatech/1. TELCO/Subcriber Telco Info/TTTB moi Vina/Final/TTTB moi T01.2021_Final_20210702.csv',\n",
       " '/mnt/array1/datatech/1. TELCO/Subcriber Telco Info/TTTB moi Vina/Final/TTTB moi T02.2021_Final_20210702.csv',\n",
       " '/mnt/array1/datatech/1. TELCO/Subcriber Telco Info/TTTB moi Vina/Final/TTTB moi 01-15T03.2021_Final_20210702.csv',\n",
       " '/mnt/array1/datatech/1. TELCO/Subcriber Telco Info/TTTB moi Vina/Final/TTTB moi 16-31T03.2021_Final_20210702.csv',\n",
       " '/mnt/array1/datatech/1. TELCO/Subcriber Telco Info/TTTB moi Vina/Final/TTTB moi T04.2021_Final_20210702.csv',\n",
       " '/mnt/array1/datatech/1. TELCO/Subcriber Telco Info/TTTB moi Vina/Final/TTTB moi T08.2021_Final_20210917.csv',\n",
       " '/mnt/array1/datatech/1. TELCO/Subcriber Telco Info/TTTB moi Vina/Final/TTTB moi T09.2021_Final_20211011.csv',\n",
       " '/mnt/array1/datatech/1. TELCO/Subcriber Telco Info/TTTB moi Vina/Final/TTTB moi T10.2021_Final_20211115.csv',\n",
       " '/mnt/array1/datatech/1. TELCO/Subcriber Telco Info/TTTB moi Vina/Final/TTTB moi T11.2021_final_20211208.csv',\n",
       " '/mnt/array1/datatech/1. TELCO/Subcriber Telco Info/TTTB moi Vina/Final/2022/TTTB moi T05.2022_final_import.csv',\n",
       " '/mnt/array1/datatech/1. TELCO/Subcriber Telco Info/TTTB moi Vina/Final/2022/TTTB moi T05.2022_final.csv',\n",
       " '/mnt/array1/datatech/1. TELCO/Subcriber Telco Info/TTTB moi Vina/Fixed xuong dong/TTTB moi T04.2021_Fix xuong dong.csv',\n",
       " '/mnt/array1/datatech/1. TELCO/Subcriber Telco Info/TTTB moi Vina/Fixed xuong dong/TTTB moi 01-15T03.2021_Fix xuong dong.csv',\n",
       " '/mnt/array1/datatech/1. TELCO/Subcriber Telco Info/TTTB moi Vina/Fixed xuong dong/TTTB moi 16-31T03.2021_Fix xuong dong.csv',\n",
       " '/mnt/array1/datatech/1. TELCO/Subcriber Telco Info/TTTB moi Vina/Fixed xuong dong/TTTB moi T02.2021_Fix xuong dong.csv',\n",
       " '/mnt/array1/datatech/1. TELCO/Subcriber Telco Info/TTTB moi Vina/Fixed xuong dong/TTTB moi T01.2021_Fix xuong dong.csv',\n",
       " '/mnt/array1/datatech/1. TELCO/Subcriber Telco Info/TTTB moi Vina/Fixed xuong dong/TTTB moi T08.2021_Fix xuong dong.csv',\n",
       " '/mnt/array1/datatech/1. TELCO/Subcriber Telco Info/TTTB moi Vina/Fixed xuong dong/TTTB moi T09.2021_Fix xuong dong.csv',\n",
       " '/mnt/array1/datatech/1. TELCO/Subcriber Telco Info/TTTB moi Vina/Fixed xuong dong/TTTB moi T10.2021_Fix xuong dong.csv',\n",
       " '/mnt/array1/datatech/1. TELCO/Subcriber Telco Info/TTTB Viettel/2019/exportDataViettel.rar',\n",
       " '/mnt/array1/datatech/1. TELCO/Subcriber Telco Info/TTTB Viettel/2021_05/part_1.zip',\n",
       " '/mnt/array1/datatech/1. TELCO/Subcriber Telco Info/TTTB Viettel/2021_05/part_2.zip',\n",
       " '/mnt/array1/datatech/1. TELCO/Subcriber Telco Info/TTTB Viettel/2021_05/part_3.zip']"
      ]
     },
     "execution_count": 14,
     "metadata": {},
     "output_type": "execute_result"
    }
   ],
   "source": [
    "not_process_file"
   ]
  },
  {
   "cell_type": "code",
   "execution_count": 21,
   "metadata": {},
   "outputs": [
    {
     "name": "stdout",
     "output_type": "stream",
     "text": [
      "Success connecting to server 192.168.40.8\n"
     ]
    },
    {
     "name": "stdin",
     "output_type": "stream",
     "text": [
      "Confirm to delete ALL files in this FOLDER: D:/DATA SUPERLAKE\\2. DATA\\3_telco/1_info\\save \n"
     ]
    },
    {
     "name": "stdout",
     "output_type": "stream",
     "text": [
      "Removing files in 'D:/DATA SUPERLAKE\\2. DATA\\3_telco/1_info' : TTTB moi T02.2021_Fix xuong dong.csv, \n",
      "Downloading /mnt/array1/datatech/1. TELCO/Subcriber Telco Info/TTTB Viettel/2021_05/part_1.zip (2.13 GB) --> Finish in 0:00:27s\n",
      "Unpacking file part_1.zip: --> Finish in 0:00:50s\n",
      "Done to process part_1.zip\n"
     ]
    }
   ],
   "source": [
    "f ='/mnt/array1/datatech/1. TELCO/Subcriber Telco Info/TTTB Viettel/2021_05/part_1.zip' # not_process_file[0]\n",
    "file = cn.FtpFile(CONFIG.database.db_source.host,\n",
    "       CONFIG.database.db_source.username,\n",
    "       CONFIG.database.db_source.password,f,savefolder)\n",
    "file.process()"
   ]
  },
  {
   "cell_type": "code",
   "execution_count": 22,
   "metadata": {},
   "outputs": [
    {
     "data": {
      "text/plain": [
       "['D:/DATA SUPERLAKE\\\\2. DATA\\\\3_telco/1_info\\\\save\\\\part_1.csv']"
      ]
     },
     "execution_count": 22,
     "metadata": {},
     "output_type": "execute_result"
    }
   ],
   "source": [
    "file.unpack_filelist"
   ]
  },
  {
   "cell_type": "code",
   "execution_count": 26,
   "metadata": {},
   "outputs": [],
   "source": [
    "from datpy.other.myfunction import display"
   ]
  },
  {
   "cell_type": "code",
   "execution_count": 29,
   "metadata": {},
   "outputs": [
    {
     "data": {
      "text/html": [
       "<div>\n",
       "<style scoped>\n",
       "    .dataframe tbody tr th:only-of-type {\n",
       "        vertical-align: middle;\n",
       "    }\n",
       "\n",
       "    .dataframe tbody tr th {\n",
       "        vertical-align: top;\n",
       "    }\n",
       "\n",
       "    .dataframe thead th {\n",
       "        text-align: right;\n",
       "    }\n",
       "</style>\n",
       "<table border=\"1\" class=\"dataframe\">\n",
       "  <thead>\n",
       "    <tr style=\"text-align: right;\">\n",
       "      <th></th>\n",
       "      <th>MSISDN</th>\n",
       "      <th>LOAI_KHACH_HANG</th>\n",
       "      <th>DOITUONG_SD</th>\n",
       "      <th>HOVATEN_TB</th>\n",
       "      <th>NGAYSINH_TB</th>\n",
       "      <th>QUOCTICH_TB</th>\n",
       "      <th>LOAIGIAYTO_TB</th>\n",
       "      <th>SOGIAYTO_TB</th>\n",
       "      <th>NGAYCAP_TB</th>\n",
       "      <th>NOICAP_TB</th>\n",
       "      <th>HOKHAUTT_TB</th>\n",
       "      <th>TEN_TOCHUC</th>\n",
       "      <th>DIACHI_TOCHUC</th>\n",
       "      <th>SOGIAYTO_TOCHUC</th>\n",
       "      <th>THANHTOAN</th>\n",
       "      <th>TEN_NVGD</th>\n",
       "      <th>DIACHI_DIEMGD</th>\n",
       "      <th>NOIDK_TINH</th>\n",
       "      <th>DIENTHOAI_DIEMGD</th>\n",
       "      <th>NGAY_SUDUNG</th>\n",
       "      <th>TRANGTHAI_TB</th>\n",
       "      <th>CONG_NGHE_TB</th>\n",
       "      <th>NGAY_SUDUNG_UPDATE</th>\n",
       "    </tr>\n",
       "  </thead>\n",
       "  <tbody>\n",
       "    <tr>\n",
       "      <th>0</th>\n",
       "      <td>84326580083</td>\n",
       "      <td>CN</td>\n",
       "      <td>CN01</td>\n",
       "      <td>Trương Thị Thúy Hằng</td>\n",
       "      <td>1996-01-01</td>\n",
       "      <td>Việt Nam</td>\n",
       "      <td>ID</td>\n",
       "      <td>341868146.0</td>\n",
       "      <td>2015-06-15</td>\n",
       "      <td>Đồng Tháp</td>\n",
       "      <td>Thông Bình Tân Hồng Đồng Tháp</td>\n",
       "      <td>NaN</td>\n",
       "      <td>NaN</td>\n",
       "      <td>NaN</td>\n",
       "      <td>TT</td>\n",
       "      <td>Lê Thị Hương Giang</td>\n",
       "      <td>DT 741, ấp Phú Nghị, Hòa Lợi Bến Cát Bình Dương</td>\n",
       "      <td>B650</td>\n",
       "      <td>0985493586</td>\n",
       "      <td>2013-09-14 09:14:14</td>\n",
       "      <td>M2</td>\n",
       "      <td>SmartPhone 4G</td>\n",
       "      <td>2013-09-14 09:14:14</td>\n",
       "    </tr>\n",
       "    <tr>\n",
       "      <th>1</th>\n",
       "      <td>84326650940</td>\n",
       "      <td>CN</td>\n",
       "      <td>CN01</td>\n",
       "      <td>NGUYỄN AN VINH</td>\n",
       "      <td>1984-08-20</td>\n",
       "      <td>Việt Nam</td>\n",
       "      <td>ID</td>\n",
       "      <td>211858968.0</td>\n",
       "      <td>2016-05-03</td>\n",
       "      <td>T Bình Định</td>\n",
       "      <td>Cát Thắng, Phù Cát, Bình Định</td>\n",
       "      <td>NaN</td>\n",
       "      <td>NaN</td>\n",
       "      <td>NaN</td>\n",
       "      <td>TT</td>\n",
       "      <td>Trương Thị Ngọc Hân</td>\n",
       "      <td>Thôn Hưng Mỹ 1, Cát Hưng Phù Cát Bình Định</td>\n",
       "      <td>B056</td>\n",
       "      <td>0965656557</td>\n",
       "      <td>2020-09-16 11:29:16</td>\n",
       "      <td>M2</td>\n",
       "      <td>FeaturePhone 2G</td>\n",
       "      <td>2020-09-16 11:29:16</td>\n",
       "    </tr>\n",
       "    <tr>\n",
       "      <th>...</th>\n",
       "      <td>...</td>\n",
       "      <td>...</td>\n",
       "      <td>...</td>\n",
       "      <td>...</td>\n",
       "      <td>...</td>\n",
       "      <td>...</td>\n",
       "      <td>...</td>\n",
       "      <td>...</td>\n",
       "      <td>...</td>\n",
       "      <td>...</td>\n",
       "      <td>...</td>\n",
       "      <td>...</td>\n",
       "      <td>...</td>\n",
       "      <td>...</td>\n",
       "      <td>...</td>\n",
       "      <td>...</td>\n",
       "      <td>...</td>\n",
       "      <td>...</td>\n",
       "      <td>...</td>\n",
       "      <td>...</td>\n",
       "      <td>...</td>\n",
       "      <td>...</td>\n",
       "      <td>...</td>\n",
       "    </tr>\n",
       "    <tr>\n",
       "      <th>98</th>\n",
       "      <td>84326014883</td>\n",
       "      <td>CN</td>\n",
       "      <td>CN01</td>\n",
       "      <td>An Thị Thu</td>\n",
       "      <td>1971-05-01</td>\n",
       "      <td>Việt Nam</td>\n",
       "      <td>ID</td>\n",
       "      <td>164504557.0</td>\n",
       "      <td>2008-03-25</td>\n",
       "      <td>Ninh Bình</td>\n",
       "      <td>Sơn Hà Nho Quan Ninh Bình</td>\n",
       "      <td>NaN</td>\n",
       "      <td>NaN</td>\n",
       "      <td>NaN</td>\n",
       "      <td>TT</td>\n",
       "      <td>Đỗ Thị Suốt</td>\n",
       "      <td>Phố Tân Nhất, TT Nho Quan, Ninh Bình</td>\n",
       "      <td>N030</td>\n",
       "      <td>030.6269198</td>\n",
       "      <td>2015-06-22 10:31:55</td>\n",
       "      <td>M2</td>\n",
       "      <td>SmartPhone 4G</td>\n",
       "      <td>2015-06-22 10:31:55</td>\n",
       "    </tr>\n",
       "    <tr>\n",
       "      <th>99</th>\n",
       "      <td>84326086180</td>\n",
       "      <td>CN</td>\n",
       "      <td>CN01</td>\n",
       "      <td>Hoàng Thị Linh</td>\n",
       "      <td>1978-04-22</td>\n",
       "      <td>Việt Nam</td>\n",
       "      <td>ID</td>\n",
       "      <td>73143833.0</td>\n",
       "      <td>2004-05-30</td>\n",
       "      <td>ca hà giang</td>\n",
       "      <td>Nậm Ty Hoàng Su Phì Hà Giang</td>\n",
       "      <td>NaN</td>\n",
       "      <td>NaN</td>\n",
       "      <td>NaN</td>\n",
       "      <td>TT</td>\n",
       "      <td>Đỗ Văn Tám</td>\n",
       "      <td>Khu 2, TT Vinh Quang, huyện Hoàng su Phì, Hà G...</td>\n",
       "      <td>H019</td>\n",
       "      <td>0219.6277098</td>\n",
       "      <td>2019-04-10 16:30:12</td>\n",
       "      <td>M2</td>\n",
       "      <td>FeaturePhone 2G</td>\n",
       "      <td>2021-04-10 16:30:12</td>\n",
       "    </tr>\n",
       "  </tbody>\n",
       "</table>\n",
       "<p>100 rows × 23 columns</p>\n",
       "</div>"
      ],
      "text/plain": [
       "         MSISDN LOAI_KHACH_HANG DOITUONG_SD            HOVATEN_TB NGAYSINH_TB  \\\n",
       "0   84326580083              CN        CN01  Trương Thị Thúy Hằng  1996-01-01   \n",
       "1   84326650940              CN        CN01        NGUYỄN AN VINH  1984-08-20   \n",
       "..          ...             ...         ...                   ...         ...   \n",
       "98  84326014883              CN        CN01            An Thị Thu  1971-05-01   \n",
       "99  84326086180              CN        CN01        Hoàng Thị Linh  1978-04-22   \n",
       "\n",
       "   QUOCTICH_TB LOAIGIAYTO_TB  SOGIAYTO_TB  NGAYCAP_TB    NOICAP_TB  \\\n",
       "0    Việt Nam            ID  341868146.0  2015-06-15    Đồng Tháp   \n",
       "1     Việt Nam            ID  211858968.0  2016-05-03  T Bình Định   \n",
       "..         ...           ...          ...         ...          ...   \n",
       "98   Việt Nam            ID  164504557.0  2008-03-25    Ninh Bình   \n",
       "99   Việt Nam            ID   73143833.0  2004-05-30  ca hà giang   \n",
       "\n",
       "                      HOKHAUTT_TB TEN_TOCHUC DIACHI_TOCHUC SOGIAYTO_TOCHUC  \\\n",
       "0   Thông Bình Tân Hồng Đồng Tháp        NaN           NaN             NaN   \n",
       "1   Cát Thắng, Phù Cát, Bình Định        NaN           NaN             NaN   \n",
       "..                            ...        ...           ...             ...   \n",
       "98      Sơn Hà Nho Quan Ninh Bình        NaN           NaN             NaN   \n",
       "99   Nậm Ty Hoàng Su Phì Hà Giang        NaN           NaN             NaN   \n",
       "\n",
       "   THANHTOAN             TEN_NVGD  \\\n",
       "0         TT   Lê Thị Hương Giang   \n",
       "1         TT  Trương Thị Ngọc Hân   \n",
       "..       ...                  ...   \n",
       "98        TT          Đỗ Thị Suốt   \n",
       "99        TT           Đỗ Văn Tám   \n",
       "\n",
       "                                        DIACHI_DIEMGD NOIDK_TINH  \\\n",
       "0     DT 741, ấp Phú Nghị, Hòa Lợi Bến Cát Bình Dương       B650   \n",
       "1          Thôn Hưng Mỹ 1, Cát Hưng Phù Cát Bình Định       B056   \n",
       "..                                                ...        ...   \n",
       "98               Phố Tân Nhất, TT Nho Quan, Ninh Bình       N030   \n",
       "99  Khu 2, TT Vinh Quang, huyện Hoàng su Phì, Hà G...       H019   \n",
       "\n",
       "   DIENTHOAI_DIEMGD          NGAY_SUDUNG TRANGTHAI_TB     CONG_NGHE_TB  \\\n",
       "0        0985493586  2013-09-14 09:14:14           M2    SmartPhone 4G   \n",
       "1        0965656557  2020-09-16 11:29:16           M2  FeaturePhone 2G   \n",
       "..              ...                  ...          ...              ...   \n",
       "98      030.6269198  2015-06-22 10:31:55           M2    SmartPhone 4G   \n",
       "99     0219.6277098  2019-04-10 16:30:12           M2  FeaturePhone 2G   \n",
       "\n",
       "     NGAY_SUDUNG_UPDATE  \n",
       "0   2013-09-14 09:14:14  \n",
       "1   2020-09-16 11:29:16  \n",
       "..                  ...  \n",
       "98  2015-06-22 10:31:55  \n",
       "99  2021-04-10 16:30:12  \n",
       "\n",
       "[100 rows x 23 columns]"
      ]
     },
     "metadata": {},
     "output_type": "display_data"
    }
   ],
   "source": [
    "x = pd.read_csv(file.unpack_filelist[0],on_bad_lines='skip', sep = \"|\",nrows=100)\n",
    "display(x,5)"
   ]
  },
  {
   "cell_type": "code",
   "execution_count": 48,
   "metadata": {},
   "outputs": [
    {
     "name": "stdout",
     "output_type": "stream",
     "text": [
      "You're connected to database 192.168.18.32:1521/DTT\n"
     ]
    }
   ],
   "source": [
    "target_db = cn.Database(\n",
    "    CONFIG.database.db_target.username1,\n",
    "    CONFIG.database.db_target.password1,\n",
    "    CONFIG.database.db_target.host,\n",
    "    CONFIG.database.db_target.port,\n",
    "    CONFIG.database.db_target.service_name,)"
   ]
  },
  {
   "cell_type": "code",
   "execution_count": 58,
   "metadata": {},
   "outputs": [
    {
     "name": "stdout",
     "output_type": "stream",
     "text": [
      "Creating table DTT_SD.DTTSD_TELCO_INFO ............Done !\n"
     ]
    }
   ],
   "source": [
    "schema = 'DTT_SD'\n",
    "table_name = 'DTTSD_TELCO_INFO'\n",
    "target_db.create(table_name,CONFIG.data.telco_info.dataSchema.DTT_SD.DTTSD_TELCO_INFO,schema)"
   ]
  }
 ],
 "metadata": {
  "kernelspec": {
   "display_name": "Python 3 (ipykernel)",
   "language": "python",
   "name": "python3"
  },
  "language_info": {
   "codemirror_mode": {
    "name": "ipython",
    "version": 3
   },
   "file_extension": ".py",
   "mimetype": "text/x-python",
   "name": "python",
   "nbconvert_exporter": "python",
   "pygments_lexer": "ipython3",
   "version": "3.9.12"
  },
  "vscode": {
   "interpreter": {
    "hash": "f08154012ddadd8e950e6e9e035c7a7b32c136e7647e9b7c77e02eb723a8bedb"
   }
  }
 },
 "nbformat": 4,
 "nbformat_minor": 4
}
