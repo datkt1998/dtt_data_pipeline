{
 "cells": [
  {
   "cell_type": "code",
   "execution_count": null,
   "id": "4dc9a0f1-e5ec-47f9-b7a9-93bb235c604a",
   "metadata": {},
   "outputs": [],
   "source": [
    "from datpy.vmg.codecrypt import encrypt, decrypt"
   ]
  },
  {
   "cell_type": "code",
   "execution_count": 1,
   "id": "ad677b80-15fd-47fd-a417-bb461ebba14e",
   "metadata": {},
   "outputs": [],
   "source": [
    "from datpy.vmg.cleaning import address"
   ]
  },
  {
   "cell_type": "code",
   "execution_count": 2,
   "id": "f83f489d-ae65-4207-9fc8-432de31be256",
   "metadata": {},
   "outputs": [
    {
     "data": {
      "text/plain": [
       "'Hải Dương'"
      ]
     },
     "execution_count": 2,
     "metadata": {},
     "output_type": "execute_result"
    }
   ],
   "source": [
    "address.get_province('Số 77 Cựu Thành, Phường Nguyễn Trãi, Thành phố Hải Dương, Tỉnh Hải Dương')"
   ]
  },
  {
   "cell_type": "code",
   "execution_count": 3,
   "id": "c1c087e4-35bd-4a32-a015-7433dd0774be",
   "metadata": {},
   "outputs": [
    {
     "name": "stdout",
     "output_type": "stream",
     "text": [
      "Requirement already satisfied: pyodbc in c:\\users\\user\\anaconda3\\lib\\site-packages (4.0.32)\n"
     ]
    }
   ],
   "source": [
    "! pip install pyodbc"
   ]
  },
  {
   "cell_type": "code",
   "execution_count": null,
   "id": "bfede17e-1c78-498c-a33a-cb4cb4cb6f17",
   "metadata": {},
   "outputs": [],
   "source": [
    "from difflib import get_close_matches"
   ]
  },
  {
   "cell_type": "code",
   "execution_count": null,
   "id": "a42906b1-4986-4a30-889a-62ef5c8486d2",
   "metadata": {},
   "outputs": [],
   "source": [
    "import pyodbc\n",
    "cnxn = pyodbc.connect(driver='{SQL Server}', server='localhost', database='test',               \n",
    "               trusted_connection='yes')"
   ]
  },
  {
   "cell_type": "code",
   "execution_count": null,
   "id": "d4ebd06b-a808-47d0-83a0-4e8934b1d092",
   "metadata": {},
   "outputs": [],
   "source": []
  },
  {
   "cell_type": "code",
   "execution_count": null,
   "id": "8079f723-3117-453a-a0f7-0360e0af7b73",
   "metadata": {},
   "outputs": [],
   "source": [
    "def rfind_nth(string, substring, n=1):\n",
    "    end = string.rfind(substring)\n",
    "    while end >= 0 and n > 1:\n",
    "        end = string.rfind(substring,0, end)\n",
    "        n -= 1\n",
    "    return string[end+1:]\n",
    "\n",
    "rfind_nth(\"ádasdasdstring\",\" \",n=10)"
   ]
  },
  {
   "cell_type": "code",
   "execution_count": null,
   "id": "9484aed6-6072-4863-b5ab-1b349005d1d8",
   "metadata": {},
   "outputs": [],
   "source": [
    "get_close_matches('hai duong',['hai phong', 'ha noi'], n = 1, cutoff=0.8)"
   ]
  },
  {
   "cell_type": "code",
   "execution_count": null,
   "id": "c5739c20-cf9c-4229-9e72-aff8d45c4cd9",
   "metadata": {},
   "outputs": [],
   "source": [
    "decrypt(['NqH2T0OqGhYeJKBEFFzNmg=='])"
   ]
  },
  {
   "cell_type": "code",
   "execution_count": null,
   "id": "9992b20c-e720-4a7f-b46a-ea8eb4e777af",
   "metadata": {},
   "outputs": [],
   "source": [
    "encrypt(['NqH2T0OqGhYeJKBEFFzNmg=='])"
   ]
  },
  {
   "cell_type": "code",
   "execution_count": null,
   "id": "a105877a-4dd4-4120-8c18-e1b010964bc4",
   "metadata": {},
   "outputs": [],
   "source": [
    "#%% import packages\n",
    "import os\n",
    "import datpy.database.connection as cn\n",
    "import datpy.filetool.config_file as cf\n",
    "import datpy.filetool.output_file as of"
   ]
  },
  {
   "cell_type": "code",
   "execution_count": null,
   "id": "b6fbc24c-f919-4ac3-93ae-e7ab42f617e2",
   "metadata": {},
   "outputs": [],
   "source": [
    "def _path(*args):\n",
    "    return os.path.normpath(os.path.join(*args))"
   ]
  },
  {
   "cell_type": "code",
   "execution_count": null,
   "id": "ebf5da10-13b3-4a02-9fd1-0742a849d172",
   "metadata": {},
   "outputs": [],
   "source": [
    "RUNDIR = os.getcwd()\n",
    "CONFIG = cf.Config(os.path.join(RUNDIR,'configs','main_config.yaml')).read(doc = 0)\n",
    "dataname = 'telco_info'\n",
    "telco = 'mobifone'\n",
    "folder_config = CONFIG.data[dataname].folder if telco is None else CONFIG.data[dataname].folder[telco]\n",
    "output_folder = _path(RUNDIR,folder_config.local_output)\n",
    "ftp_folder = folder_config.ftp_store\n",
    "savefolder,logfolder = of.OutputFolder(output_folder)\n",
    "dataSchema = dict(CONFIG.data[dataname].dataSchema.DTT_SD.DTTSD_TELCO_INFO)"
   ]
  },
  {
   "cell_type": "code",
   "execution_count": null,
   "id": "536cc69c-4cd7-4afc-b0c0-09d814ff566d",
   "metadata": {},
   "outputs": [],
   "source": [
    "from IPython.display import JSON\n",
    "JSON(cf.Config(os.path.join(RUNDIR,'configs','main_config.yaml')).read(0,False))"
   ]
  },
  {
   "cell_type": "code",
   "execution_count": null,
   "id": "236e1583-7a76-41f3-824b-bc861625554e",
   "metadata": {},
   "outputs": [],
   "source": [
    "ftp_files = cn.FtpServer(\n",
    "    CONFIG.database.db_source.host,\n",
    "    CONFIG.database.db_source.username,\n",
    "    CONFIG.database.db_source.password)\\\n",
    "    .listdir(ftp_folder)\n",
    "not_process_filefir = of.check_file_processed(ftp_files,logfolder)"
   ]
  },
  {
   "cell_type": "code",
   "execution_count": null,
   "id": "9fa71689-433e-4675-a2fd-e4ceaeda726e",
   "metadata": {},
   "outputs": [],
   "source": [
    "for f in not_process_filefir:\n",
    "    download_file = cn.FtpFile(CONFIG.database.db_source.host, CONFIG.database.db_source.username, CONFIG.database.db_source.password, f, savefolder)\n",
    "    download_file.process()\n",
    "    unpack_file = download_file.unpack_filelist\n",
    "    for file in unpack_file:\n",
    "        break\n",
    "    break"
   ]
  },
  {
   "cell_type": "code",
   "execution_count": null,
   "id": "fda6f3c8-341f-4825-8b73-e64c240c1fec",
   "metadata": {},
   "outputs": [],
   "source": [
    "import sys\n",
    "sys.path.append(folder_config.local_code)\n",
    "from runfile import MobifoneInfo"
   ]
  },
  {
   "cell_type": "code",
   "execution_count": null,
   "id": "43c639c3-576b-4b0b-a164-9e82c7035e0f",
   "metadata": {},
   "outputs": [],
   "source": [
    "read_file = MobifoneInfo(file,dataSchema,'202003')"
   ]
  },
  {
   "cell_type": "code",
   "execution_count": null,
   "id": "162638a0-2f76-4f4d-a538-6fa3eaf50016",
   "metadata": {},
   "outputs": [],
   "source": [
    "for i in read_file.process():\n",
    "    break"
   ]
  },
  {
   "cell_type": "code",
   "execution_count": null,
   "id": "03f5ef4f-9832-4b46-8647-8e2fdcfda023",
   "metadata": {},
   "outputs": [],
   "source": []
  }
 ],
 "metadata": {
  "kernelspec": {
   "display_name": "Python 3 (ipykernel)",
   "language": "python",
   "name": "python3"
  },
  "language_info": {
   "codemirror_mode": {
    "name": "ipython",
    "version": 3
   },
   "file_extension": ".py",
   "mimetype": "text/x-python",
   "name": "python",
   "nbconvert_exporter": "python",
   "pygments_lexer": "ipython3",
   "version": "3.9.12"
  }
 },
 "nbformat": 4,
 "nbformat_minor": 5
}
