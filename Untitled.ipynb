{
 "cells": [
  {
   "cell_type": "code",
   "execution_count": 13,
   "id": "63572db1",
   "metadata": {},
   "outputs": [
    {
     "name": "stdout",
     "output_type": "stream",
     "text": [
      "16203833\r"
     ]
    }
   ],
   "source": [
    "import pandas as pd\n",
    "import csv\n",
    "dfs = pd.read_csv(r'D:\\DATA SUPERLAKE\\2. DATA\\3_telco\\1_info\\2_viettel_2019\\export_2019_other_new.csv', chunksize= 400000, usecols = ['MSISDN'],on_bad_lines='skip',quoting=csv.QUOTE_NONE\n",
    "# engine=None\n",
    ")\n",
    "count = 0\n",
    "for df in dfs:\n",
    "    count += len(df)\n",
    "    print(count,end=\"\\r\")\n",
    "\n",
    "# exportDataViettel 44,292,871\n",
    "# export_2019_map_2018_check_trung 3,428,203\n",
    "# export_2019_map_2018_trung 9,807,597\n",
    "# export_2019_other_new 16,203,833\n"
   ]
  },
  {
   "cell_type": "code",
   "execution_count": null,
   "id": "e3a2e7e9",
   "metadata": {},
   "outputs": [],
   "source": [
    "def get_dtypes(cfg):\n",
    "    res = {'convert_string': [], 'convert_floating': [], 'convert_integer': [], 'convert_boolean': [], 'convert_datetime': []}\n",
    "    for x in cfg.keys():\n",
    "        if cfg[x].upper() == 'DATE':\n",
    "            res['convert_datetime']+=[x]\n",
    "        elif cfg[x].upper().startswith('VARCHAR2'):\n",
    "            # lenght_varchar2 = int(x[x.index(\"(\")+1:x.index(\")\")])\n",
    "            res['convert_string']+=[x]\n",
    "        elif 'FLOAT' in cfg[x].upper():\n",
    "            res['convert_floating']+=[x]\n",
    "        elif 'INTEGER' in cfg[x].upper():\n",
    "            res['convert_integer']+=[x]              \n",
    "    return res"
   ]
  },
  {
   "cell_type": "code",
   "execution_count": 2,
   "id": "2ea64d56",
   "metadata": {},
   "outputs": [],
   "source": [
    "from datpy.helpers import helper as hp\n",
    "\n",
    "# telco_info_mobifone\n",
    "if __name__ == '__main__':\n",
    "    dataname = 'telco_info'\n",
    "    level2 = 'mobifone'\n",
    "    tablename = 'DTTSD_TELCO_INFO'\n",
    "    importMonth = '202107'\n",
    "    schema = 'DATKT'\n",
    "    hp.init()\n",
    "    hp.load_params(dataname,tablename = tablename, level2 = level2, importMonth = importMonth, schema = schema)"
   ]
  },
  {
   "cell_type": "code",
   "execution_count": 7,
   "id": "72b65be9",
   "metadata": {},
   "outputs": [
    {
     "data": {
      "text/plain": [
       "{'PHONE_NUMBER': VARCHAR(length=40),\n",
       " 'FULLNAME': VARCHAR(length=400),\n",
       " 'DOB': DATE(),\n",
       " 'GERDER': VARCHAR(length=2),\n",
       " 'ADDRESS': VARCHAR(length=800),\n",
       " 'PROVINCE': VARCHAR(length=50),\n",
       " 'IDCARD': VARCHAR(length=40),\n",
       " 'IDCARD_ISSUEDATE': DATE(),\n",
       " 'IDCARD_ADDRESS': VARCHAR(length=800),\n",
       " 'EMAIL': VARCHAR(length=100),\n",
       " 'CARRIER': VARCHAR(length=30),\n",
       " 'PHONE_BRAND': VARCHAR(length=50),\n",
       " 'PHONE_TYPE': VARCHAR(length=150),\n",
       " 'SUB_TYPE': VARCHAR(length=30),\n",
       " 'PAY_TYPE': VARCHAR(length=10),\n",
       " 'SUB_STATUS': VARCHAR(length=10),\n",
       " 'SIM_TYPE': VARCHAR(length=5),\n",
       " 'BRANCH': VARCHAR(length=255),\n",
       " 'PACKAGE_TYPE': VARCHAR(length=40),\n",
       " 'ACTIVE_DATE': DATE(),\n",
       " 'UPDATE_DATE': DATE(),\n",
       " 'IMPORT_MONTH': VARCHAR(length=6)}"
      ]
     },
     "execution_count": 7,
     "metadata": {},
     "output_type": "execute_result"
    }
   ],
   "source": [
    "import pandas as pd\n",
    "import numpy as np\n",
    "import datpy.database.connection as cn\n",
    "cn.Database.getdtype(hp.cfg['dataSchema'])"
   ]
  },
  {
   "cell_type": "code",
   "execution_count": 10,
   "id": "a50c5dcf",
   "metadata": {},
   "outputs": [],
   "source": [
    "from sqlalchemy import types"
   ]
  },
  {
   "cell_type": "code",
   "execution_count": 11,
   "id": "4fc68e5f",
   "metadata": {},
   "outputs": [],
   "source": [
    "dty = cn.Database.getdtype(hp.cfg['dataSchema'])\n",
    "dty['PHONE_NUMBER'] = types.FLOAT()"
   ]
  },
  {
   "cell_type": "code",
   "execution_count": 23,
   "id": "d14ed5de",
   "metadata": {},
   "outputs": [],
   "source": [
    "from datpy.filetool.output_file import logs, Mylog\n",
    "lg = Mylog(logFolder = r\"D:\\DATA SUPERLAKE\\3. CODE\\dtt_data_pipeline\").get_logger()"
   ]
  },
  {
   "cell_type": "code",
   "execution_count": 24,
   "id": "5e55e118",
   "metadata": {},
   "outputs": [],
   "source": [
    "@logs(logger=lg)\n",
    "def div(a,b):\n",
    "    return a/b"
   ]
  },
  {
   "cell_type": "code",
   "execution_count": 26,
   "id": "7c84b454",
   "metadata": {},
   "outputs": [],
   "source": [
    "lg.info('a')"
   ]
  },
  {
   "cell_type": "code",
   "execution_count": 12,
   "id": "9aa0240e",
   "metadata": {},
   "outputs": [
    {
     "ename": "StatementError",
     "evalue": "(builtins.ValueError) could not convert string to float: 'xxx'\n[SQL: INSERT INTO a (\"PHONE_NUMBER\", \"FULLNAME\") VALUES (:PHONE_NUMBER, :FULLNAME)]\n[parameters: [{'PHONE_NUMBER': 'xxx', 'FULLNAME': None}, {'PHONE_NUMBER': None, 'FULLNAME': 'np.nan'}]]",
     "output_type": "error",
     "traceback": [
      "\u001b[1;31m---------------------------------------------------------------------------\u001b[0m",
      "\u001b[1;31mValueError\u001b[0m                                Traceback (most recent call last)",
      "File \u001b[1;32mc:\\Users\\User\\anaconda3\\lib\\site-packages\\sqlalchemy\\engine\\base.py:1708\u001b[0m, in \u001b[0;36mConnection._execute_context\u001b[1;34m(self, dialect, constructor, statement, parameters, execution_options, *args, **kw)\u001b[0m\n\u001b[0;32m   1706\u001b[0m         conn \u001b[39m=\u001b[39m \u001b[39mself\u001b[39m\u001b[39m.\u001b[39m_revalidate_connection()\n\u001b[1;32m-> 1708\u001b[0m     context \u001b[39m=\u001b[39m constructor(\n\u001b[0;32m   1709\u001b[0m         dialect, \u001b[39mself\u001b[39m, conn, execution_options, \u001b[39m*\u001b[39margs, \u001b[39m*\u001b[39m\u001b[39m*\u001b[39mkw\n\u001b[0;32m   1710\u001b[0m     )\n\u001b[0;32m   1711\u001b[0m \u001b[39mexcept\u001b[39;00m (exc\u001b[39m.\u001b[39mPendingRollbackError, exc\u001b[39m.\u001b[39mResourceClosedError):\n",
      "File \u001b[1;32mc:\\Users\\User\\anaconda3\\lib\\site-packages\\sqlalchemy\\engine\\default.py:1091\u001b[0m, in \u001b[0;36mDefaultExecutionContext._init_compiled\u001b[1;34m(cls, dialect, connection, dbapi_connection, execution_options, compiled, parameters, invoked_statement, extracted_parameters, cache_hit)\u001b[0m\n\u001b[0;32m   1090\u001b[0m \u001b[39melse\u001b[39;00m:\n\u001b[1;32m-> 1091\u001b[0m     param \u001b[39m=\u001b[39m {\n\u001b[0;32m   1092\u001b[0m         key: processors[key](compiled_params[key])\n\u001b[0;32m   1093\u001b[0m         \u001b[39mif\u001b[39;00m key \u001b[39min\u001b[39;00m processors\n\u001b[0;32m   1094\u001b[0m         \u001b[39melse\u001b[39;00m compiled_params[key]\n\u001b[0;32m   1095\u001b[0m         \u001b[39mfor\u001b[39;00m key \u001b[39min\u001b[39;00m compiled_params\n\u001b[0;32m   1096\u001b[0m     }\n\u001b[0;32m   1098\u001b[0m parameters\u001b[39m.\u001b[39mappend(param)\n",
      "File \u001b[1;32mc:\\Users\\User\\anaconda3\\lib\\site-packages\\sqlalchemy\\engine\\default.py:1092\u001b[0m, in \u001b[0;36m<dictcomp>\u001b[1;34m(.0)\u001b[0m\n\u001b[0;32m   1090\u001b[0m \u001b[39melse\u001b[39;00m:\n\u001b[0;32m   1091\u001b[0m     param \u001b[39m=\u001b[39m {\n\u001b[1;32m-> 1092\u001b[0m         key: processors[key](compiled_params[key])\n\u001b[0;32m   1093\u001b[0m         \u001b[39mif\u001b[39;00m key \u001b[39min\u001b[39;00m processors\n\u001b[0;32m   1094\u001b[0m         \u001b[39melse\u001b[39;00m compiled_params[key]\n\u001b[0;32m   1095\u001b[0m         \u001b[39mfor\u001b[39;00m key \u001b[39min\u001b[39;00m compiled_params\n\u001b[0;32m   1096\u001b[0m     }\n\u001b[0;32m   1098\u001b[0m parameters\u001b[39m.\u001b[39mappend(param)\n",
      "\u001b[1;31mValueError\u001b[0m: could not convert string to float: 'xxx'",
      "\nThe above exception was the direct cause of the following exception:\n",
      "\u001b[1;31mStatementError\u001b[0m                            Traceback (most recent call last)",
      "\u001b[1;32md:\\DATA SUPERLAKE\\3. CODE\\dtt_data_pipeline\\Untitled.ipynb Cell 7'\u001b[0m in \u001b[0;36m<cell line: 1>\u001b[1;34m()\u001b[0m\n\u001b[1;32m----> <a href='vscode-notebook-cell:/d%3A/DATA%20SUPERLAKE/3.%20CODE/dtt_data_pipeline/Untitled.ipynb#ch0000008?line=0'>1</a>\u001b[0m pd\u001b[39m.\u001b[39;49mDataFrame([[\u001b[39m'\u001b[39;49m\u001b[39mxxx\u001b[39;49m\u001b[39m'\u001b[39;49m,np\u001b[39m.\u001b[39;49mnan],[np\u001b[39m.\u001b[39;49mnan,\u001b[39m'\u001b[39;49m\u001b[39mnp.nan\u001b[39;49m\u001b[39m'\u001b[39;49m]], columns\u001b[39m=\u001b[39;49m[\u001b[39m'\u001b[39;49m\u001b[39mPHONE_NUMBER\u001b[39;49m\u001b[39m'\u001b[39;49m,\u001b[39m'\u001b[39;49m\u001b[39mFULLNAME\u001b[39;49m\u001b[39m'\u001b[39;49m])\\\n\u001b[0;32m      <a href='vscode-notebook-cell:/d%3A/DATA%20SUPERLAKE/3.%20CODE/dtt_data_pipeline/Untitled.ipynb#ch0000008?line=1'>2</a>\u001b[0m     \u001b[39m.\u001b[39;49mto_sql(\u001b[39m'\u001b[39;49m\u001b[39ma\u001b[39;49m\u001b[39m'\u001b[39;49m,hp\u001b[39m.\u001b[39;49mcfg[\u001b[39m'\u001b[39;49m\u001b[39moracle_server\u001b[39;49m\u001b[39m'\u001b[39;49m]\u001b[39m.\u001b[39;49mengine,if_exists \u001b[39m=\u001b[39;49m \u001b[39m'\u001b[39;49m\u001b[39mreplace\u001b[39;49m\u001b[39m'\u001b[39;49m,index\u001b[39m=\u001b[39;49m\u001b[39mFalse\u001b[39;49;00m, dtype\u001b[39m=\u001b[39;49m dty)\n",
      "File \u001b[1;32mc:\\Users\\User\\anaconda3\\lib\\site-packages\\pandas\\core\\generic.py:2951\u001b[0m, in \u001b[0;36mNDFrame.to_sql\u001b[1;34m(self, name, con, schema, if_exists, index, index_label, chunksize, dtype, method)\u001b[0m\n\u001b[0;32m   2794\u001b[0m \u001b[39m\"\"\"\u001b[39;00m\n\u001b[0;32m   2795\u001b[0m \u001b[39mWrite records stored in a DataFrame to a SQL database.\u001b[39;00m\n\u001b[0;32m   2796\u001b[0m \n\u001b[1;32m   (...)\u001b[0m\n\u001b[0;32m   2947\u001b[0m \u001b[39m[(1,), (None,), (2,)]\u001b[39;00m\n\u001b[0;32m   2948\u001b[0m \u001b[39m\"\"\"\u001b[39;00m  \u001b[39m# noqa:E501\u001b[39;00m\n\u001b[0;32m   2949\u001b[0m \u001b[39mfrom\u001b[39;00m \u001b[39mpandas\u001b[39;00m\u001b[39m.\u001b[39;00m\u001b[39mio\u001b[39;00m \u001b[39mimport\u001b[39;00m sql\n\u001b[1;32m-> 2951\u001b[0m \u001b[39mreturn\u001b[39;00m sql\u001b[39m.\u001b[39;49mto_sql(\n\u001b[0;32m   2952\u001b[0m     \u001b[39mself\u001b[39;49m,\n\u001b[0;32m   2953\u001b[0m     name,\n\u001b[0;32m   2954\u001b[0m     con,\n\u001b[0;32m   2955\u001b[0m     schema\u001b[39m=\u001b[39;49mschema,\n\u001b[0;32m   2956\u001b[0m     if_exists\u001b[39m=\u001b[39;49mif_exists,\n\u001b[0;32m   2957\u001b[0m     index\u001b[39m=\u001b[39;49mindex,\n\u001b[0;32m   2958\u001b[0m     index_label\u001b[39m=\u001b[39;49mindex_label,\n\u001b[0;32m   2959\u001b[0m     chunksize\u001b[39m=\u001b[39;49mchunksize,\n\u001b[0;32m   2960\u001b[0m     dtype\u001b[39m=\u001b[39;49mdtype,\n\u001b[0;32m   2961\u001b[0m     method\u001b[39m=\u001b[39;49mmethod,\n\u001b[0;32m   2962\u001b[0m )\n",
      "File \u001b[1;32mc:\\Users\\User\\anaconda3\\lib\\site-packages\\pandas\\io\\sql.py:697\u001b[0m, in \u001b[0;36mto_sql\u001b[1;34m(frame, name, con, schema, if_exists, index, index_label, chunksize, dtype, method, engine, **engine_kwargs)\u001b[0m\n\u001b[0;32m    692\u001b[0m \u001b[39melif\u001b[39;00m \u001b[39mnot\u001b[39;00m \u001b[39misinstance\u001b[39m(frame, DataFrame):\n\u001b[0;32m    693\u001b[0m     \u001b[39mraise\u001b[39;00m \u001b[39mNotImplementedError\u001b[39;00m(\n\u001b[0;32m    694\u001b[0m         \u001b[39m\"\u001b[39m\u001b[39m'\u001b[39m\u001b[39mframe\u001b[39m\u001b[39m'\u001b[39m\u001b[39m argument should be either a Series or a DataFrame\u001b[39m\u001b[39m\"\u001b[39m\n\u001b[0;32m    695\u001b[0m     )\n\u001b[1;32m--> 697\u001b[0m \u001b[39mreturn\u001b[39;00m pandas_sql\u001b[39m.\u001b[39mto_sql(\n\u001b[0;32m    698\u001b[0m     frame,\n\u001b[0;32m    699\u001b[0m     name,\n\u001b[0;32m    700\u001b[0m     if_exists\u001b[39m=\u001b[39mif_exists,\n\u001b[0;32m    701\u001b[0m     index\u001b[39m=\u001b[39mindex,\n\u001b[0;32m    702\u001b[0m     index_label\u001b[39m=\u001b[39mindex_label,\n\u001b[0;32m    703\u001b[0m     schema\u001b[39m=\u001b[39mschema,\n\u001b[0;32m    704\u001b[0m     chunksize\u001b[39m=\u001b[39mchunksize,\n\u001b[0;32m    705\u001b[0m     dtype\u001b[39m=\u001b[39mdtype,\n\u001b[0;32m    706\u001b[0m     method\u001b[39m=\u001b[39mmethod,\n\u001b[0;32m    707\u001b[0m     engine\u001b[39m=\u001b[39mengine,\n\u001b[0;32m    708\u001b[0m     \u001b[39m*\u001b[39m\u001b[39m*\u001b[39mengine_kwargs,\n\u001b[0;32m    709\u001b[0m )\n",
      "File \u001b[1;32mc:\\Users\\User\\anaconda3\\lib\\site-packages\\pandas\\io\\sql.py:1739\u001b[0m, in \u001b[0;36mSQLDatabase.to_sql\u001b[1;34m(self, frame, name, if_exists, index, index_label, schema, chunksize, dtype, method, engine, **engine_kwargs)\u001b[0m\n\u001b[0;32m   1727\u001b[0m sql_engine \u001b[39m=\u001b[39m get_engine(engine)\n\u001b[0;32m   1729\u001b[0m table \u001b[39m=\u001b[39m \u001b[39mself\u001b[39m\u001b[39m.\u001b[39mprep_table(\n\u001b[0;32m   1730\u001b[0m     frame\u001b[39m=\u001b[39mframe,\n\u001b[0;32m   1731\u001b[0m     name\u001b[39m=\u001b[39mname,\n\u001b[1;32m   (...)\u001b[0m\n\u001b[0;32m   1736\u001b[0m     dtype\u001b[39m=\u001b[39mdtype,\n\u001b[0;32m   1737\u001b[0m )\n\u001b[1;32m-> 1739\u001b[0m total_inserted \u001b[39m=\u001b[39m sql_engine\u001b[39m.\u001b[39minsert_records(\n\u001b[0;32m   1740\u001b[0m     table\u001b[39m=\u001b[39mtable,\n\u001b[0;32m   1741\u001b[0m     con\u001b[39m=\u001b[39m\u001b[39mself\u001b[39m\u001b[39m.\u001b[39mconnectable,\n\u001b[0;32m   1742\u001b[0m     frame\u001b[39m=\u001b[39mframe,\n\u001b[0;32m   1743\u001b[0m     name\u001b[39m=\u001b[39mname,\n\u001b[0;32m   1744\u001b[0m     index\u001b[39m=\u001b[39mindex,\n\u001b[0;32m   1745\u001b[0m     schema\u001b[39m=\u001b[39mschema,\n\u001b[0;32m   1746\u001b[0m     chunksize\u001b[39m=\u001b[39mchunksize,\n\u001b[0;32m   1747\u001b[0m     method\u001b[39m=\u001b[39mmethod,\n\u001b[0;32m   1748\u001b[0m     \u001b[39m*\u001b[39m\u001b[39m*\u001b[39mengine_kwargs,\n\u001b[0;32m   1749\u001b[0m )\n\u001b[0;32m   1751\u001b[0m \u001b[39mself\u001b[39m\u001b[39m.\u001b[39mcheck_case_sensitive(name\u001b[39m=\u001b[39mname, schema\u001b[39m=\u001b[39mschema)\n\u001b[0;32m   1752\u001b[0m \u001b[39mreturn\u001b[39;00m total_inserted\n",
      "File \u001b[1;32mc:\\Users\\User\\anaconda3\\lib\\site-packages\\pandas\\io\\sql.py:1332\u001b[0m, in \u001b[0;36mSQLAlchemyEngine.insert_records\u001b[1;34m(self, table, con, frame, name, index, schema, chunksize, method, **engine_kwargs)\u001b[0m\n\u001b[0;32m   1330\u001b[0m     \u001b[39mraise\u001b[39;00m \u001b[39mValueError\u001b[39;00m(\u001b[39m\"\u001b[39m\u001b[39minf cannot be used with MySQL\u001b[39m\u001b[39m\"\u001b[39m) \u001b[39mfrom\u001b[39;00m \u001b[39merr\u001b[39;00m\n\u001b[0;32m   1331\u001b[0m \u001b[39melse\u001b[39;00m:\n\u001b[1;32m-> 1332\u001b[0m     \u001b[39mraise\u001b[39;00m err\n",
      "File \u001b[1;32mc:\\Users\\User\\anaconda3\\lib\\site-packages\\pandas\\io\\sql.py:1322\u001b[0m, in \u001b[0;36mSQLAlchemyEngine.insert_records\u001b[1;34m(self, table, con, frame, name, index, schema, chunksize, method, **engine_kwargs)\u001b[0m\n\u001b[0;32m   1319\u001b[0m \u001b[39mfrom\u001b[39;00m \u001b[39msqlalchemy\u001b[39;00m \u001b[39mimport\u001b[39;00m exc\n\u001b[0;32m   1321\u001b[0m \u001b[39mtry\u001b[39;00m:\n\u001b[1;32m-> 1322\u001b[0m     \u001b[39mreturn\u001b[39;00m table\u001b[39m.\u001b[39;49minsert(chunksize\u001b[39m=\u001b[39;49mchunksize, method\u001b[39m=\u001b[39;49mmethod)\n\u001b[0;32m   1323\u001b[0m \u001b[39mexcept\u001b[39;00m exc\u001b[39m.\u001b[39mSQLAlchemyError \u001b[39mas\u001b[39;00m err:\n\u001b[0;32m   1324\u001b[0m     \u001b[39m# GH34431\u001b[39;00m\n\u001b[0;32m   1325\u001b[0m     \u001b[39m# https://stackoverflow.com/a/67358288/6067848\u001b[39;00m\n\u001b[0;32m   1326\u001b[0m     msg \u001b[39m=\u001b[39m \u001b[39mr\u001b[39m\u001b[39m\"\"\"\u001b[39m\u001b[39m(\u001b[39m\u001b[39m\\\u001b[39m\u001b[39m(1054, \u001b[39m\u001b[39m\"\u001b[39m\u001b[39mUnknown column \u001b[39m\u001b[39m'\u001b[39m\u001b[39minf(e0)?\u001b[39m\u001b[39m'\u001b[39m\u001b[39m in \u001b[39m\u001b[39m'\u001b[39m\u001b[39mfield list\u001b[39m\u001b[39m'\u001b[39m\u001b[39m\"\u001b[39m\u001b[39m\\\u001b[39m\u001b[39m))(?#\u001b[39m\n\u001b[0;32m   1327\u001b[0m \u001b[39m    )|inf can not be used with MySQL\u001b[39m\u001b[39m\"\"\"\u001b[39m\n",
      "File \u001b[1;32mc:\\Users\\User\\anaconda3\\lib\\site-packages\\pandas\\io\\sql.py:950\u001b[0m, in \u001b[0;36mSQLTable.insert\u001b[1;34m(self, chunksize, method)\u001b[0m\n\u001b[0;32m    947\u001b[0m     \u001b[39mbreak\u001b[39;00m\n\u001b[0;32m    949\u001b[0m chunk_iter \u001b[39m=\u001b[39m \u001b[39mzip\u001b[39m(\u001b[39m*\u001b[39m(arr[start_i:end_i] \u001b[39mfor\u001b[39;00m arr \u001b[39min\u001b[39;00m data_list))\n\u001b[1;32m--> 950\u001b[0m num_inserted \u001b[39m=\u001b[39m exec_insert(conn, keys, chunk_iter)\n\u001b[0;32m    951\u001b[0m \u001b[39mif\u001b[39;00m num_inserted \u001b[39mis\u001b[39;00m \u001b[39mNone\u001b[39;00m:\n\u001b[0;32m    952\u001b[0m     total_inserted \u001b[39m=\u001b[39m \u001b[39mNone\u001b[39;00m\n",
      "File \u001b[1;32mc:\\Users\\User\\anaconda3\\lib\\site-packages\\pandas\\io\\sql.py:857\u001b[0m, in \u001b[0;36mSQLTable._execute_insert\u001b[1;34m(self, conn, keys, data_iter)\u001b[0m\n\u001b[0;32m    845\u001b[0m \u001b[39m\"\"\"\u001b[39;00m\n\u001b[0;32m    846\u001b[0m \u001b[39mExecute SQL statement inserting data\u001b[39;00m\n\u001b[0;32m    847\u001b[0m \n\u001b[1;32m   (...)\u001b[0m\n\u001b[0;32m    854\u001b[0m \u001b[39m   Each item contains a list of values to be inserted\u001b[39;00m\n\u001b[0;32m    855\u001b[0m \u001b[39m\"\"\"\u001b[39;00m\n\u001b[0;32m    856\u001b[0m data \u001b[39m=\u001b[39m [\u001b[39mdict\u001b[39m(\u001b[39mzip\u001b[39m(keys, row)) \u001b[39mfor\u001b[39;00m row \u001b[39min\u001b[39;00m data_iter]\n\u001b[1;32m--> 857\u001b[0m result \u001b[39m=\u001b[39m conn\u001b[39m.\u001b[39;49mexecute(\u001b[39mself\u001b[39;49m\u001b[39m.\u001b[39;49mtable\u001b[39m.\u001b[39;49minsert(), data)\n\u001b[0;32m    858\u001b[0m \u001b[39mreturn\u001b[39;00m result\u001b[39m.\u001b[39mrowcount\n",
      "File \u001b[1;32mc:\\Users\\User\\anaconda3\\lib\\site-packages\\sqlalchemy\\engine\\base.py:1295\u001b[0m, in \u001b[0;36mConnection.execute\u001b[1;34m(self, statement, *multiparams, **params)\u001b[0m\n\u001b[0;32m   1291\u001b[0m     util\u001b[39m.\u001b[39mraise_(\n\u001b[0;32m   1292\u001b[0m         exc\u001b[39m.\u001b[39mObjectNotExecutableError(statement), replace_context\u001b[39m=\u001b[39merr\n\u001b[0;32m   1293\u001b[0m     )\n\u001b[0;32m   1294\u001b[0m \u001b[39melse\u001b[39;00m:\n\u001b[1;32m-> 1295\u001b[0m     \u001b[39mreturn\u001b[39;00m meth(\u001b[39mself\u001b[39;49m, multiparams, params, _EMPTY_EXECUTION_OPTS)\n",
      "File \u001b[1;32mc:\\Users\\User\\anaconda3\\lib\\site-packages\\sqlalchemy\\sql\\elements.py:325\u001b[0m, in \u001b[0;36mClauseElement._execute_on_connection\u001b[1;34m(self, connection, multiparams, params, execution_options, _force)\u001b[0m\n\u001b[0;32m    321\u001b[0m \u001b[39mdef\u001b[39;00m \u001b[39m_execute_on_connection\u001b[39m(\n\u001b[0;32m    322\u001b[0m     \u001b[39mself\u001b[39m, connection, multiparams, params, execution_options, _force\u001b[39m=\u001b[39m\u001b[39mFalse\u001b[39;00m\n\u001b[0;32m    323\u001b[0m ):\n\u001b[0;32m    324\u001b[0m     \u001b[39mif\u001b[39;00m _force \u001b[39mor\u001b[39;00m \u001b[39mself\u001b[39m\u001b[39m.\u001b[39msupports_execution:\n\u001b[1;32m--> 325\u001b[0m         \u001b[39mreturn\u001b[39;00m connection\u001b[39m.\u001b[39;49m_execute_clauseelement(\n\u001b[0;32m    326\u001b[0m             \u001b[39mself\u001b[39;49m, multiparams, params, execution_options\n\u001b[0;32m    327\u001b[0m         )\n\u001b[0;32m    328\u001b[0m     \u001b[39melse\u001b[39;00m:\n\u001b[0;32m    329\u001b[0m         \u001b[39mraise\u001b[39;00m exc\u001b[39m.\u001b[39mObjectNotExecutableError(\u001b[39mself\u001b[39m)\n",
      "File \u001b[1;32mc:\\Users\\User\\anaconda3\\lib\\site-packages\\sqlalchemy\\engine\\base.py:1487\u001b[0m, in \u001b[0;36mConnection._execute_clauseelement\u001b[1;34m(self, elem, multiparams, params, execution_options)\u001b[0m\n\u001b[0;32m   1475\u001b[0m compiled_cache \u001b[39m=\u001b[39m execution_options\u001b[39m.\u001b[39mget(\n\u001b[0;32m   1476\u001b[0m     \u001b[39m\"\u001b[39m\u001b[39mcompiled_cache\u001b[39m\u001b[39m\"\u001b[39m, \u001b[39mself\u001b[39m\u001b[39m.\u001b[39mengine\u001b[39m.\u001b[39m_compiled_cache\n\u001b[0;32m   1477\u001b[0m )\n\u001b[0;32m   1479\u001b[0m compiled_sql, extracted_params, cache_hit \u001b[39m=\u001b[39m elem\u001b[39m.\u001b[39m_compile_w_cache(\n\u001b[0;32m   1480\u001b[0m     dialect\u001b[39m=\u001b[39mdialect,\n\u001b[0;32m   1481\u001b[0m     compiled_cache\u001b[39m=\u001b[39mcompiled_cache,\n\u001b[1;32m   (...)\u001b[0m\n\u001b[0;32m   1485\u001b[0m     linting\u001b[39m=\u001b[39m\u001b[39mself\u001b[39m\u001b[39m.\u001b[39mdialect\u001b[39m.\u001b[39mcompiler_linting \u001b[39m|\u001b[39m compiler\u001b[39m.\u001b[39mWARN_LINTING,\n\u001b[0;32m   1486\u001b[0m )\n\u001b[1;32m-> 1487\u001b[0m ret \u001b[39m=\u001b[39m \u001b[39mself\u001b[39;49m\u001b[39m.\u001b[39;49m_execute_context(\n\u001b[0;32m   1488\u001b[0m     dialect,\n\u001b[0;32m   1489\u001b[0m     dialect\u001b[39m.\u001b[39;49mexecution_ctx_cls\u001b[39m.\u001b[39;49m_init_compiled,\n\u001b[0;32m   1490\u001b[0m     compiled_sql,\n\u001b[0;32m   1491\u001b[0m     distilled_params,\n\u001b[0;32m   1492\u001b[0m     execution_options,\n\u001b[0;32m   1493\u001b[0m     compiled_sql,\n\u001b[0;32m   1494\u001b[0m     distilled_params,\n\u001b[0;32m   1495\u001b[0m     elem,\n\u001b[0;32m   1496\u001b[0m     extracted_params,\n\u001b[0;32m   1497\u001b[0m     cache_hit\u001b[39m=\u001b[39;49mcache_hit,\n\u001b[0;32m   1498\u001b[0m )\n\u001b[0;32m   1499\u001b[0m \u001b[39mif\u001b[39;00m has_events:\n\u001b[0;32m   1500\u001b[0m     \u001b[39mself\u001b[39m\u001b[39m.\u001b[39mdispatch\u001b[39m.\u001b[39mafter_execute(\n\u001b[0;32m   1501\u001b[0m         \u001b[39mself\u001b[39m,\n\u001b[0;32m   1502\u001b[0m         elem,\n\u001b[1;32m   (...)\u001b[0m\n\u001b[0;32m   1506\u001b[0m         ret,\n\u001b[0;32m   1507\u001b[0m     )\n",
      "File \u001b[1;32mc:\\Users\\User\\anaconda3\\lib\\site-packages\\sqlalchemy\\engine\\base.py:1714\u001b[0m, in \u001b[0;36mConnection._execute_context\u001b[1;34m(self, dialect, constructor, statement, parameters, execution_options, *args, **kw)\u001b[0m\n\u001b[0;32m   1712\u001b[0m     \u001b[39mraise\u001b[39;00m\n\u001b[0;32m   1713\u001b[0m \u001b[39mexcept\u001b[39;00m \u001b[39mBaseException\u001b[39;00m \u001b[39mas\u001b[39;00m e:\n\u001b[1;32m-> 1714\u001b[0m     \u001b[39mself\u001b[39;49m\u001b[39m.\u001b[39;49m_handle_dbapi_exception(\n\u001b[0;32m   1715\u001b[0m         e, util\u001b[39m.\u001b[39;49mtext_type(statement), parameters, \u001b[39mNone\u001b[39;49;00m, \u001b[39mNone\u001b[39;49;00m\n\u001b[0;32m   1716\u001b[0m     )\n\u001b[0;32m   1718\u001b[0m \u001b[39mif\u001b[39;00m (\n\u001b[0;32m   1719\u001b[0m     \u001b[39mself\u001b[39m\u001b[39m.\u001b[39m_transaction\n\u001b[0;32m   1720\u001b[0m     \u001b[39mand\u001b[39;00m \u001b[39mnot\u001b[39;00m \u001b[39mself\u001b[39m\u001b[39m.\u001b[39m_transaction\u001b[39m.\u001b[39mis_active\n\u001b[1;32m   (...)\u001b[0m\n\u001b[0;32m   1724\u001b[0m     )\n\u001b[0;32m   1725\u001b[0m ):\n\u001b[0;32m   1726\u001b[0m     \u001b[39mself\u001b[39m\u001b[39m.\u001b[39m_invalid_transaction()\n",
      "File \u001b[1;32mc:\\Users\\User\\anaconda3\\lib\\site-packages\\sqlalchemy\\engine\\base.py:2032\u001b[0m, in \u001b[0;36mConnection._handle_dbapi_exception\u001b[1;34m(self, e, statement, parameters, cursor, context)\u001b[0m\n\u001b[0;32m   2030\u001b[0m     util\u001b[39m.\u001b[39mraise_(newraise, with_traceback\u001b[39m=\u001b[39mexc_info[\u001b[39m2\u001b[39m], from_\u001b[39m=\u001b[39me)\n\u001b[0;32m   2031\u001b[0m \u001b[39melif\u001b[39;00m should_wrap:\n\u001b[1;32m-> 2032\u001b[0m     util\u001b[39m.\u001b[39;49mraise_(\n\u001b[0;32m   2033\u001b[0m         sqlalchemy_exception, with_traceback\u001b[39m=\u001b[39;49mexc_info[\u001b[39m2\u001b[39;49m], from_\u001b[39m=\u001b[39;49me\n\u001b[0;32m   2034\u001b[0m     )\n\u001b[0;32m   2035\u001b[0m \u001b[39melse\u001b[39;00m:\n\u001b[0;32m   2036\u001b[0m     util\u001b[39m.\u001b[39mraise_(exc_info[\u001b[39m1\u001b[39m], with_traceback\u001b[39m=\u001b[39mexc_info[\u001b[39m2\u001b[39m])\n",
      "File \u001b[1;32mc:\\Users\\User\\anaconda3\\lib\\site-packages\\sqlalchemy\\util\\compat.py:207\u001b[0m, in \u001b[0;36mraise_\u001b[1;34m(***failed resolving arguments***)\u001b[0m\n\u001b[0;32m    204\u001b[0m     exception\u001b[39m.\u001b[39m__cause__ \u001b[39m=\u001b[39m replace_context\n\u001b[0;32m    206\u001b[0m \u001b[39mtry\u001b[39;00m:\n\u001b[1;32m--> 207\u001b[0m     \u001b[39mraise\u001b[39;00m exception\n\u001b[0;32m    208\u001b[0m \u001b[39mfinally\u001b[39;00m:\n\u001b[0;32m    209\u001b[0m     \u001b[39m# credit to\u001b[39;00m\n\u001b[0;32m    210\u001b[0m     \u001b[39m# https://cosmicpercolator.com/2016/01/13/exception-leaks-in-python-2-and-3/\u001b[39;00m\n\u001b[0;32m    211\u001b[0m     \u001b[39m# as the __traceback__ object creates a cycle\u001b[39;00m\n\u001b[0;32m    212\u001b[0m     \u001b[39mdel\u001b[39;00m exception, replace_context, from_, with_traceback\n",
      "File \u001b[1;32mc:\\Users\\User\\anaconda3\\lib\\site-packages\\sqlalchemy\\engine\\base.py:1708\u001b[0m, in \u001b[0;36mConnection._execute_context\u001b[1;34m(self, dialect, constructor, statement, parameters, execution_options, *args, **kw)\u001b[0m\n\u001b[0;32m   1705\u001b[0m     \u001b[39mif\u001b[39;00m conn \u001b[39mis\u001b[39;00m \u001b[39mNone\u001b[39;00m:\n\u001b[0;32m   1706\u001b[0m         conn \u001b[39m=\u001b[39m \u001b[39mself\u001b[39m\u001b[39m.\u001b[39m_revalidate_connection()\n\u001b[1;32m-> 1708\u001b[0m     context \u001b[39m=\u001b[39m constructor(\n\u001b[0;32m   1709\u001b[0m         dialect, \u001b[39mself\u001b[39m, conn, execution_options, \u001b[39m*\u001b[39margs, \u001b[39m*\u001b[39m\u001b[39m*\u001b[39mkw\n\u001b[0;32m   1710\u001b[0m     )\n\u001b[0;32m   1711\u001b[0m \u001b[39mexcept\u001b[39;00m (exc\u001b[39m.\u001b[39mPendingRollbackError, exc\u001b[39m.\u001b[39mResourceClosedError):\n\u001b[0;32m   1712\u001b[0m     \u001b[39mraise\u001b[39;00m\n",
      "File \u001b[1;32mc:\\Users\\User\\anaconda3\\lib\\site-packages\\sqlalchemy\\engine\\default.py:1091\u001b[0m, in \u001b[0;36mDefaultExecutionContext._init_compiled\u001b[1;34m(cls, dialect, connection, dbapi_connection, execution_options, compiled, parameters, invoked_statement, extracted_parameters, cache_hit)\u001b[0m\n\u001b[0;32m   1084\u001b[0m             param \u001b[39m=\u001b[39m {\n\u001b[0;32m   1085\u001b[0m                 encoder(key)[\u001b[39m0\u001b[39m]: processors[key](compiled_params[key])\n\u001b[0;32m   1086\u001b[0m                 \u001b[39mif\u001b[39;00m key \u001b[39min\u001b[39;00m processors\n\u001b[0;32m   1087\u001b[0m                 \u001b[39melse\u001b[39;00m compiled_params[key]\n\u001b[0;32m   1088\u001b[0m                 \u001b[39mfor\u001b[39;00m key \u001b[39min\u001b[39;00m compiled_params\n\u001b[0;32m   1089\u001b[0m             }\n\u001b[0;32m   1090\u001b[0m         \u001b[39melse\u001b[39;00m:\n\u001b[1;32m-> 1091\u001b[0m             param \u001b[39m=\u001b[39m {\n\u001b[0;32m   1092\u001b[0m                 key: processors[key](compiled_params[key])\n\u001b[0;32m   1093\u001b[0m                 \u001b[39mif\u001b[39;00m key \u001b[39min\u001b[39;00m processors\n\u001b[0;32m   1094\u001b[0m                 \u001b[39melse\u001b[39;00m compiled_params[key]\n\u001b[0;32m   1095\u001b[0m                 \u001b[39mfor\u001b[39;00m key \u001b[39min\u001b[39;00m compiled_params\n\u001b[0;32m   1096\u001b[0m             }\n\u001b[0;32m   1098\u001b[0m         parameters\u001b[39m.\u001b[39mappend(param)\n\u001b[0;32m   1100\u001b[0m \u001b[39mself\u001b[39m\u001b[39m.\u001b[39mparameters \u001b[39m=\u001b[39m dialect\u001b[39m.\u001b[39mexecute_sequence_format(parameters)\n",
      "File \u001b[1;32mc:\\Users\\User\\anaconda3\\lib\\site-packages\\sqlalchemy\\engine\\default.py:1092\u001b[0m, in \u001b[0;36m<dictcomp>\u001b[1;34m(.0)\u001b[0m\n\u001b[0;32m   1084\u001b[0m             param \u001b[39m=\u001b[39m {\n\u001b[0;32m   1085\u001b[0m                 encoder(key)[\u001b[39m0\u001b[39m]: processors[key](compiled_params[key])\n\u001b[0;32m   1086\u001b[0m                 \u001b[39mif\u001b[39;00m key \u001b[39min\u001b[39;00m processors\n\u001b[0;32m   1087\u001b[0m                 \u001b[39melse\u001b[39;00m compiled_params[key]\n\u001b[0;32m   1088\u001b[0m                 \u001b[39mfor\u001b[39;00m key \u001b[39min\u001b[39;00m compiled_params\n\u001b[0;32m   1089\u001b[0m             }\n\u001b[0;32m   1090\u001b[0m         \u001b[39melse\u001b[39;00m:\n\u001b[0;32m   1091\u001b[0m             param \u001b[39m=\u001b[39m {\n\u001b[1;32m-> 1092\u001b[0m                 key: processors[key](compiled_params[key])\n\u001b[0;32m   1093\u001b[0m                 \u001b[39mif\u001b[39;00m key \u001b[39min\u001b[39;00m processors\n\u001b[0;32m   1094\u001b[0m                 \u001b[39melse\u001b[39;00m compiled_params[key]\n\u001b[0;32m   1095\u001b[0m                 \u001b[39mfor\u001b[39;00m key \u001b[39min\u001b[39;00m compiled_params\n\u001b[0;32m   1096\u001b[0m             }\n\u001b[0;32m   1098\u001b[0m         parameters\u001b[39m.\u001b[39mappend(param)\n\u001b[0;32m   1100\u001b[0m \u001b[39mself\u001b[39m\u001b[39m.\u001b[39mparameters \u001b[39m=\u001b[39m dialect\u001b[39m.\u001b[39mexecute_sequence_format(parameters)\n",
      "\u001b[1;31mStatementError\u001b[0m: (builtins.ValueError) could not convert string to float: 'xxx'\n[SQL: INSERT INTO a (\"PHONE_NUMBER\", \"FULLNAME\") VALUES (:PHONE_NUMBER, :FULLNAME)]\n[parameters: [{'PHONE_NUMBER': 'xxx', 'FULLNAME': None}, {'PHONE_NUMBER': None, 'FULLNAME': 'np.nan'}]]"
     ]
    }
   ],
   "source": [
    "pd.DataFrame([['xxx',np.nan],[np.nan,'np.nan']], columns=['PHONE_NUMBER','FULLNAME'])\\\n",
    "    .to_sql('a',hp.cfg['oracle_server'].engine,if_exists = 'replace',index=False, dtype= dty)"
   ]
  }
 ],
 "metadata": {
  "kernelspec": {
   "display_name": "Python 3.9.12 ('base')",
   "language": "python",
   "name": "python3"
  },
  "language_info": {
   "codemirror_mode": {
    "name": "ipython",
    "version": 3
   },
   "file_extension": ".py",
   "mimetype": "text/x-python",
   "name": "python",
   "nbconvert_exporter": "python",
   "pygments_lexer": "ipython3",
   "version": "3.9.12"
  },
  "vscode": {
   "interpreter": {
    "hash": "f08154012ddadd8e950e6e9e035c7a7b32c136e7647e9b7c77e02eb723a8bedb"
   }
  }
 },
 "nbformat": 4,
 "nbformat_minor": 5
}
