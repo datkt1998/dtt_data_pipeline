{
 "cells": [
  {
   "cell_type": "code",
   "execution_count": 1,
   "id": "6f1fa582",
   "metadata": {},
   "outputs": [],
   "source": [
    "import pandas as pd\n",
    "import csv\n",
    "from datpy.vmg.cleaning import text, address, Phone, IDcard, unidecode"
   ]
  },
  {
   "cell_type": "code",
   "execution_count": 2,
   "id": "9519f509",
   "metadata": {},
   "outputs": [],
   "source": [
    "path_viettel_bill_tt =  r\"D:\\DATA SUPERLAKE\\2. DATA\\3_telco\\2_bill\\1_viettel\\export_tt_t4.csv\"\n",
    "path_viettel_bill_ts =  r\"D:\\DATA SUPERLAKE\\2. DATA\\3_telco\\2_bill\\1_viettel\\export_ts_t4.csv\"\n",
    "path_vinaphone_bill = r\"D:\\DATA SUPERLAKE\\2. DATA\\3_telco\\2_bill\\2_vina\\arpu_20220630_202206_2.csv\"\n",
    "path_viettel_voice_tt =  r\"D:\\DATA SUPERLAKE\\2. DATA\\3_telco\\3_voice\\Viettel\\export_pre_1.csv\"\n",
    "path_viettel_voice_ts =  r\"D:\\DATA SUPERLAKE\\2. DATA\\3_telco\\3_voice\\Viettel\\export_pos_1.csv\"\n",
    "path_vinaphone_voice = r\"D:\\DATA SUPERLAKE\\2. DATA\\3_telco\\3_voice\\Vina\\202206010100.100.00001.csv\""
   ]
  },
  {
   "cell_type": "code",
   "execution_count": 33,
   "id": "aad56b13",
   "metadata": {},
   "outputs": [
    {
     "name": "stdout",
     "output_type": "stream",
     "text": [
      "(46489473,)\n"
     ]
    }
   ],
   "source": [
    "from dask import delayed, compute\n",
    "@delayed\n",
    "def process(path ):\n",
    "    sep=\"|\"\n",
    "    dfs = pd.read_csv(path,sep=\",\", usecols=['SO_DIEN_THOAI'])\n",
    "    cnt =len(dfs.drop_duplicates())\n",
    "    return cnt\n",
    "a = process(path_viettel_bill_tt)\n",
    "b = process(path_viettel_bill_ts)\n",
    "print(compute(a+ b))"
   ]
  },
  {
   "cell_type": "code",
   "execution_count": 31,
   "id": "bc4e7c24",
   "metadata": {},
   "outputs": [
    {
     "name": "stdout",
     "output_type": "stream",
     "text": [
      "(48306083,)\n"
     ]
    }
   ],
   "source": [
    "def process(path ):\n",
    "    sep=\"|\"\n",
    "    dfs = pd.read_csv(path,sep=\"|\", usecols=['A_SUBS'])\n",
    "    cnt =len(dfs)\n",
    "    return cnt\n",
    "a = process(path_vinaphone_voice)\n",
    "print(compute(a))"
   ]
  },
  {
   "cell_type": "code",
   "execution_count": 12,
   "id": "98999605",
   "metadata": {},
   "outputs": [],
   "source": [
    "import numpy as np"
   ]
  },
  {
   "cell_type": "code",
   "execution_count": 40,
   "id": "14ab41ba",
   "metadata": {},
   "outputs": [
    {
     "data": {
      "text/html": [
       "<div>\n",
       "<style scoped>\n",
       "    .dataframe tbody tr th:only-of-type {\n",
       "        vertical-align: middle;\n",
       "    }\n",
       "\n",
       "    .dataframe tbody tr th {\n",
       "        vertical-align: top;\n",
       "    }\n",
       "\n",
       "    .dataframe thead th {\n",
       "        text-align: right;\n",
       "    }\n",
       "</style>\n",
       "<table border=\"1\" class=\"dataframe\">\n",
       "  <thead>\n",
       "    <tr style=\"text-align: right;\">\n",
       "      <th></th>\n",
       "      <th>SO_DIEN_THOAI</th>\n",
       "      <th>QUAN_HUYEN</th>\n",
       "      <th>TINH_THANH_PHO</th>\n",
       "      <th>SO_GIAY_GOI</th>\n",
       "      <th>SO_TIN_NHAN</th>\n",
       "      <th>TIEN_CUOC_GOI</th>\n",
       "      <th>TIEN_CUOC_TIN_NHAN</th>\n",
       "      <th>TIEN_VAS</th>\n",
       "      <th>DONG_MAY</th>\n",
       "      <th>NAM_SINH</th>\n",
       "      <th>GIOI_TINH</th>\n",
       "      <th>NGAY_KICH_HOAT</th>\n",
       "      <th>TONG_CUOC_GOC</th>\n",
       "    </tr>\n",
       "  </thead>\n",
       "  <tbody>\n",
       "    <tr>\n",
       "      <th>7</th>\n",
       "      <td>84982794003</td>\n",
       "      <td>Yên Lập</td>\n",
       "      <td>Phú Thọ</td>\n",
       "      <td>872</td>\n",
       "      <td>9</td>\n",
       "      <td>19652</td>\n",
       "      <td>2395</td>\n",
       "      <td>16890</td>\n",
       "      <td>F5 32GB CPH1723</td>\n",
       "      <td>1990.0</td>\n",
       "      <td>F</td>\n",
       "      <td>20220329</td>\n",
       "      <td>38937</td>\n",
       "    </tr>\n",
       "    <tr>\n",
       "      <th>10</th>\n",
       "      <td>84868841252</td>\n",
       "      <td>Tân Biên</td>\n",
       "      <td>Tây Ninh</td>\n",
       "      <td>6404</td>\n",
       "      <td>42</td>\n",
       "      <td>145151</td>\n",
       "      <td>8296</td>\n",
       "      <td>72153</td>\n",
       "      <td>NaN</td>\n",
       "      <td>1974.0</td>\n",
       "      <td>M</td>\n",
       "      <td>20170222</td>\n",
       "      <td>225600</td>\n",
       "    </tr>\n",
       "    <tr>\n",
       "      <th>13</th>\n",
       "      <td>84358589401</td>\n",
       "      <td>Nhơn Trạch</td>\n",
       "      <td>Đồng Nai</td>\n",
       "      <td>51</td>\n",
       "      <td>54</td>\n",
       "      <td>1040</td>\n",
       "      <td>11594</td>\n",
       "      <td>98128</td>\n",
       "      <td>A1601 F1S SELFIE EXPERT</td>\n",
       "      <td>1972.0</td>\n",
       "      <td>F</td>\n",
       "      <td>20211121</td>\n",
       "      <td>110762</td>\n",
       "    </tr>\n",
       "    <tr>\n",
       "      <th>23</th>\n",
       "      <td>84971881847</td>\n",
       "      <td>Tân Châu</td>\n",
       "      <td>Tây Ninh</td>\n",
       "      <td>1949</td>\n",
       "      <td>3</td>\n",
       "      <td>44086</td>\n",
       "      <td>982</td>\n",
       "      <td>7127</td>\n",
       "      <td>SM-J700H GALAXY J7 DUOS</td>\n",
       "      <td>1987.0</td>\n",
       "      <td>F</td>\n",
       "      <td>20220412</td>\n",
       "      <td>52195</td>\n",
       "    </tr>\n",
       "    <tr>\n",
       "      <th>24</th>\n",
       "      <td>84987940994</td>\n",
       "      <td>Thăng Bình</td>\n",
       "      <td>Quảng Nam</td>\n",
       "      <td>4414</td>\n",
       "      <td>41</td>\n",
       "      <td>100032</td>\n",
       "      <td>7837</td>\n",
       "      <td>56854</td>\n",
       "      <td>ES405B</td>\n",
       "      <td>1981.0</td>\n",
       "      <td>F</td>\n",
       "      <td>20211127</td>\n",
       "      <td>164723</td>\n",
       "    </tr>\n",
       "  </tbody>\n",
       "</table>\n",
       "</div>"
      ],
      "text/plain": [
       "    SO_DIEN_THOAI  QUAN_HUYEN TINH_THANH_PHO  SO_GIAY_GOI  SO_TIN_NHAN  \\\n",
       "7     84982794003     Yên Lập        Phú Thọ          872            9   \n",
       "10    84868841252    Tân Biên       Tây Ninh         6404           42   \n",
       "13    84358589401  Nhơn Trạch       Đồng Nai           51           54   \n",
       "23    84971881847    Tân Châu       Tây Ninh         1949            3   \n",
       "24    84987940994  Thăng Bình      Quảng Nam         4414           41   \n",
       "\n",
       "    TIEN_CUOC_GOI  TIEN_CUOC_TIN_NHAN  TIEN_VAS                 DONG_MAY  \\\n",
       "7           19652                2395     16890          F5 32GB CPH1723   \n",
       "10         145151                8296     72153                      NaN   \n",
       "13           1040               11594     98128  A1601 F1S SELFIE EXPERT   \n",
       "23          44086                 982      7127  SM-J700H GALAXY J7 DUOS   \n",
       "24         100032                7837     56854                   ES405B   \n",
       "\n",
       "    NAM_SINH GIOI_TINH  NGAY_KICH_HOAT  TONG_CUOC_GOC  \n",
       "7     1990.0         F        20220329          38937  \n",
       "10    1974.0         M        20170222         225600  \n",
       "13    1972.0         F        20211121         110762  \n",
       "23    1987.0         F        20220412          52195  \n",
       "24    1981.0         F        20211127         164723  "
      ]
     },
     "execution_count": 40,
     "metadata": {},
     "output_type": "execute_result"
    }
   ],
   "source": [
    "df = pd.read_csv(path_viettel_bill_tt,nrows= 100,sep=\",\")\n",
    "df[df.NAM_SINH.isna()==False].head()"
   ]
  },
  {
   "cell_type": "code",
   "execution_count": 3,
   "id": "4d7803e6",
   "metadata": {},
   "outputs": [],
   "source": [
    "import numpy as np\n",
    "import re\n",
    "def birthyear_standardize(birthyear):\n",
    "    res = np.nan\n",
    "    try:\n",
    "        str_birthyear = text.remove_punctuation(text(str(birthyear)).clean())\n",
    "        if re.match(\"^[0-9]{4,4}$\",str_birthyear):\n",
    "            if (int(str_birthyear) > 1930) and (int(str_birthyear) < 2030):\n",
    "                return str_birthyear\n",
    "        return res\n",
    "    except:\n",
    "        return res"
   ]
  },
  {
   "cell_type": "code",
   "execution_count": 4,
   "id": "2f1cca65",
   "metadata": {},
   "outputs": [
    {
     "data": {
      "text/plain": [
       "'1970'"
      ]
     },
     "execution_count": 4,
     "metadata": {},
     "output_type": "execute_result"
    }
   ],
   "source": [
    "text.remove_punctuation(text(str('.  1970.0')).clean())"
   ]
  },
  {
   "cell_type": "code",
   "execution_count": 8,
   "id": "4af53a7d",
   "metadata": {},
   "outputs": [
    {
     "data": {
      "text/plain": [
       "'2029'"
      ]
     },
     "execution_count": 8,
     "metadata": {},
     "output_type": "execute_result"
    }
   ],
   "source": [
    "birthyear_standardize('.  2029.00')"
   ]
  },
  {
   "cell_type": "code",
   "execution_count": 59,
   "id": "c0eff376",
   "metadata": {},
   "outputs": [
    {
     "data": {
      "text/html": [
       "<div>\n",
       "<style scoped>\n",
       "    .dataframe tbody tr th:only-of-type {\n",
       "        vertical-align: middle;\n",
       "    }\n",
       "\n",
       "    .dataframe tbody tr th {\n",
       "        vertical-align: top;\n",
       "    }\n",
       "\n",
       "    .dataframe thead th {\n",
       "        text-align: right;\n",
       "    }\n",
       "</style>\n",
       "<table border=\"1\" class=\"dataframe\">\n",
       "  <thead>\n",
       "    <tr style=\"text-align: right;\">\n",
       "      <th></th>\n",
       "      <th>0</th>\n",
       "    </tr>\n",
       "  </thead>\n",
       "  <tbody>\n",
       "    <tr>\n",
       "      <th>0</th>\n",
       "      <td>so_dien_thoai</td>\n",
       "    </tr>\n",
       "    <tr>\n",
       "      <th>1</th>\n",
       "      <td>quan_huyen</td>\n",
       "    </tr>\n",
       "    <tr>\n",
       "      <th>2</th>\n",
       "      <td>tinh_thanh_pho</td>\n",
       "    </tr>\n",
       "    <tr>\n",
       "      <th>3</th>\n",
       "      <td>so_giay_goi</td>\n",
       "    </tr>\n",
       "    <tr>\n",
       "      <th>4</th>\n",
       "      <td>so_tin_nhan</td>\n",
       "    </tr>\n",
       "    <tr>\n",
       "      <th>5</th>\n",
       "      <td>tien_cuoc_goi</td>\n",
       "    </tr>\n",
       "    <tr>\n",
       "      <th>6</th>\n",
       "      <td>tien_cuoc_tin_nhan</td>\n",
       "    </tr>\n",
       "    <tr>\n",
       "      <th>7</th>\n",
       "      <td>tong_tieu_dung</td>\n",
       "    </tr>\n",
       "    <tr>\n",
       "      <th>8</th>\n",
       "      <td>tien_cam_ket_va_vas</td>\n",
       "    </tr>\n",
       "    <tr>\n",
       "      <th>9</th>\n",
       "      <td>dong_may</td>\n",
       "    </tr>\n",
       "    <tr>\n",
       "      <th>10</th>\n",
       "      <td>ngay_sinh</td>\n",
       "    </tr>\n",
       "    <tr>\n",
       "      <th>11</th>\n",
       "      <td>gioi_tinh</td>\n",
       "    </tr>\n",
       "    <tr>\n",
       "      <th>12</th>\n",
       "      <td>ngay_kich_hoat</td>\n",
       "    </tr>\n",
       "  </tbody>\n",
       "</table>\n",
       "</div>"
      ],
      "text/plain": [
       "                      0\n",
       "0         so_dien_thoai\n",
       "1            quan_huyen\n",
       "2        tinh_thanh_pho\n",
       "3           so_giay_goi\n",
       "4           so_tin_nhan\n",
       "5         tien_cuoc_goi\n",
       "6    tien_cuoc_tin_nhan\n",
       "7        tong_tieu_dung\n",
       "8   tien_cam_ket_va_vas\n",
       "9              dong_may\n",
       "10            ngay_sinh\n",
       "11            gioi_tinh\n",
       "12       ngay_kich_hoat"
      ]
     },
     "execution_count": 59,
     "metadata": {},
     "output_type": "execute_result"
    }
   ],
   "source": [
    "pd.DataFrame(pd.read_csv(path_viettel_bill_ts,nrows= 5,sep=\",\").columns.map(str.lower))"
   ]
  },
  {
   "cell_type": "code",
   "execution_count": 58,
   "id": "bd4d71e4",
   "metadata": {},
   "outputs": [
    {
     "data": {
      "text/html": [
       "<div>\n",
       "<style scoped>\n",
       "    .dataframe tbody tr th:only-of-type {\n",
       "        vertical-align: middle;\n",
       "    }\n",
       "\n",
       "    .dataframe tbody tr th {\n",
       "        vertical-align: top;\n",
       "    }\n",
       "\n",
       "    .dataframe thead th {\n",
       "        text-align: right;\n",
       "    }\n",
       "</style>\n",
       "<table border=\"1\" class=\"dataframe\">\n",
       "  <thead>\n",
       "    <tr style=\"text-align: right;\">\n",
       "      <th></th>\n",
       "      <th>0</th>\n",
       "    </tr>\n",
       "  </thead>\n",
       "  <tbody>\n",
       "    <tr>\n",
       "      <th>0</th>\n",
       "      <td>so_dien_thoai</td>\n",
       "    </tr>\n",
       "    <tr>\n",
       "      <th>1</th>\n",
       "      <td>quan_huyen</td>\n",
       "    </tr>\n",
       "    <tr>\n",
       "      <th>2</th>\n",
       "      <td>tinh_thanh_pho</td>\n",
       "    </tr>\n",
       "    <tr>\n",
       "      <th>3</th>\n",
       "      <td>so_giay_goi</td>\n",
       "    </tr>\n",
       "    <tr>\n",
       "      <th>4</th>\n",
       "      <td>so_tin_nhan</td>\n",
       "    </tr>\n",
       "    <tr>\n",
       "      <th>5</th>\n",
       "      <td>tien_cuoc_goi</td>\n",
       "    </tr>\n",
       "    <tr>\n",
       "      <th>6</th>\n",
       "      <td>tien_cuoc_tin_nhan</td>\n",
       "    </tr>\n",
       "    <tr>\n",
       "      <th>7</th>\n",
       "      <td>tien_vas</td>\n",
       "    </tr>\n",
       "    <tr>\n",
       "      <th>8</th>\n",
       "      <td>dong_may</td>\n",
       "    </tr>\n",
       "    <tr>\n",
       "      <th>9</th>\n",
       "      <td>nam_sinh</td>\n",
       "    </tr>\n",
       "    <tr>\n",
       "      <th>10</th>\n",
       "      <td>gioi_tinh</td>\n",
       "    </tr>\n",
       "    <tr>\n",
       "      <th>11</th>\n",
       "      <td>ngay_kich_hoat</td>\n",
       "    </tr>\n",
       "    <tr>\n",
       "      <th>12</th>\n",
       "      <td>tong_cuoc_goc</td>\n",
       "    </tr>\n",
       "  </tbody>\n",
       "</table>\n",
       "</div>"
      ],
      "text/plain": [
       "                     0\n",
       "0        so_dien_thoai\n",
       "1           quan_huyen\n",
       "2       tinh_thanh_pho\n",
       "3          so_giay_goi\n",
       "4          so_tin_nhan\n",
       "5        tien_cuoc_goi\n",
       "6   tien_cuoc_tin_nhan\n",
       "7             tien_vas\n",
       "8             dong_may\n",
       "9             nam_sinh\n",
       "10           gioi_tinh\n",
       "11      ngay_kich_hoat\n",
       "12       tong_cuoc_goc"
      ]
     },
     "execution_count": 58,
     "metadata": {},
     "output_type": "execute_result"
    }
   ],
   "source": [
    "pd.DataFrame(pd.read_csv(path_viettel_bill_tt,nrows= 5,sep=\",\").columns.map(str.lower))"
   ]
  },
  {
   "cell_type": "code",
   "execution_count": 33,
   "id": "f63c3cf6",
   "metadata": {},
   "outputs": [],
   "source": [
    "def importMonthInfo(filedir, typedata):\n",
    "    if typedata == 'telco_info_viettel':\n",
    "        split_path = filedir.split('/')\n",
    "        assert split_path[-2].lower() == 'viettel'\n",
    "        filename = split_path[-1]\n",
    "        if 'tt' in filename:\n",
    "            paytype = 'pre_paid'\n",
    "        elif 'ts' in filename:\n",
    "            paytype = 'post_paid'\n",
    "        else:\n",
    "            paytype = np.nan\n",
    "        month = re.findall(\"t[0-9]{1,2}\", filename.lower())[0][1:]\n",
    "        year = split_path[-3]\n",
    "        importmonth = \"{:04.0f}{:02.0f}\".format(int(year),int(month))\n",
    "        return (importmonth, paytype)\n",
    "\n"
   ]
  },
  {
   "cell_type": "code",
   "execution_count": 28,
   "id": "aa5222c4",
   "metadata": {},
   "outputs": [
    {
     "data": {
      "text/plain": [
       "['t1']"
      ]
     },
     "execution_count": 28,
     "metadata": {},
     "output_type": "execute_result"
    }
   ],
   "source": [
    "re.findall(\"t[0-9]{1,2}\",\"array1/datatech/1. TELCO/Bill Telco/2022/Viettel/export_ts_t1.zip\".split('/')[-1].lower())#[1:]"
   ]
  },
  {
   "cell_type": "code",
   "execution_count": 34,
   "id": "ce4e3976",
   "metadata": {},
   "outputs": [
    {
     "data": {
      "text/plain": [
       "('202201', 'post_paid')"
      ]
     },
     "execution_count": 34,
     "metadata": {},
     "output_type": "execute_result"
    }
   ],
   "source": [
    "importMonthInfo(\"array1/datatech/1. TELCO/Bill Telco/2022/Viettel/export_ts_t1.zip\", 'telco_info_viettel')"
   ]
  },
  {
   "cell_type": "code",
   "execution_count": 55,
   "id": "ea4f1828",
   "metadata": {},
   "outputs": [],
   "source": [
    "import os\n",
    "fol = r\"E:\\5.FINANCIAL REPORTS\"\n",
    "def checkfile(fol):\n",
    "    for i in os.listdir(fol):\n",
    "        link = os.path.join(fol,i)\n",
    "        if os.path.isfile(link):\n",
    "            if \"0101245486\" in i:\n",
    "                print(link)\n",
    "        elif os.path.isdir(link):\n",
    "            checkfile(link)\n"
   ]
  },
  {
   "cell_type": "code",
   "execution_count": 56,
   "id": "1ad1ec69",
   "metadata": {},
   "outputs": [
    {
     "name": "stdout",
     "output_type": "stream",
     "text": [
      "E:\\5.FINANCIAL REPORTS\\Part 1\\xf\\0101245486_20220629230442.xml\n"
     ]
    }
   ],
   "source": [
    "checkfile(fol)"
   ]
  },
  {
   "cell_type": "code",
   "execution_count": 71,
   "id": "ef0c3a2e",
   "metadata": {},
   "outputs": [
    {
     "name": "stdout",
     "output_type": "stream",
     "text": [
      "Q1\n",
      "Q1\n",
      "Q1\n",
      "Q2\n",
      "Q2\n",
      "Q2\n",
      "Q3\n",
      "Q3\n",
      "Q3\n",
      "Q4\n",
      "Q4\n",
      "Q4\n"
     ]
    }
   ],
   "source": [
    "for  m in range(1,13):\n",
    "    print(\"Q{}\".format((m-1) // 3 +1))"
   ]
  }
 ],
 "metadata": {
  "kernelspec": {
   "display_name": "Python 3.9.12 ('base')",
   "language": "python",
   "name": "python3"
  },
  "language_info": {
   "codemirror_mode": {
    "name": "ipython",
    "version": 3
   },
   "file_extension": ".py",
   "mimetype": "text/x-python",
   "name": "python",
   "nbconvert_exporter": "python",
   "pygments_lexer": "ipython3",
   "version": "3.9.12"
  },
  "vscode": {
   "interpreter": {
    "hash": "f08154012ddadd8e950e6e9e035c7a7b32c136e7647e9b7c77e02eb723a8bedb"
   }
  }
 },
 "nbformat": 4,
 "nbformat_minor": 5
}
